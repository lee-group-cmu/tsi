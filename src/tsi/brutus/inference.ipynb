{
 "cells": [
  {
   "cell_type": "code",
   "execution_count": 1,
   "metadata": {},
   "outputs": [
    {
     "name": "stderr",
     "output_type": "stream",
     "text": [
      "2024-12-17 12:12:40.952566: E external/local_xla/xla/stream_executor/cuda/cuda_dnn.cc:9261] Unable to register cuDNN factory: Attempting to register factory for plugin cuDNN when one has already been registered\n",
      "2024-12-17 12:12:40.952605: E external/local_xla/xla/stream_executor/cuda/cuda_fft.cc:607] Unable to register cuFFT factory: Attempting to register factory for plugin cuFFT when one has already been registered\n",
      "2024-12-17 12:12:40.954231: E external/local_xla/xla/stream_executor/cuda/cuda_blas.cc:1515] Unable to register cuBLAS factory: Attempting to register factory for plugin cuBLAS when one has already been registered\n",
      "2024-12-17 12:12:40.961784: I tensorflow/core/platform/cpu_feature_guard.cc:182] This TensorFlow binary is optimized to use available CPU instructions in performance-critical operations.\n",
      "To enable the following instructions: AVX2 FMA, in other operations, rebuild TensorFlow with the appropriate compiler flags.\n",
      "2024-12-17 12:12:42.328141: W tensorflow/compiler/tf2tensorrt/utils/py_utils.cc:38] TF-TRT Warning: Could not find TensorRT\n"
     ]
    }
   ],
   "source": [
    "%load_ext autoreload\n",
    "%autoreload 2\n",
    "\n",
    "import click\n",
    "import pickle\n",
    "from tqdm import tqdm\n",
    "import time\n",
    "import torch\n",
    "import numpy as np\n",
    "import pandas as pd\n",
    "import matplotlib.pyplot as plt\n",
    "import seaborn as sns\n",
    "from sbi.inference import FMPE\n",
    "import os\n",
    "from utils.data_generation import fetch_grid, sample_joint_distribution, sample_uniform_distribution\n",
    "from utils.inference import preprocess_inputs, get_prior, get_eval_grid, get_posterior, compute_indicators_sampling_posterior, posterior_and_prior_kdeplot\n",
    "from lf2i.inference import LF2I\n",
    "from lf2i.test_statistics.posterior import Posterior\n",
    "from lf2i.utils.other_methods import hpd_region\n",
    "from lf2i.plot.parameter_regions import plot_parameter_regions\n",
    "from lf2i.diagnostics.coverage_probability import compute_indicators_posterior"
   ]
  },
  {
   "cell_type": "code",
   "execution_count": 2,
   "metadata": {},
   "outputs": [],
   "source": [
    "FLOW_TYPE = 'npe'\n",
    "B = 300_000  # num simulations to estimate posterior anid test statistics\n",
    "B_PRIME = 100_000  # num simulations to estimate critical values\n",
    "B_DOUBLE_PRIME = 30_000  # num simulations to estimate coverage probability\n",
    "EVAL_GRID_SIZE = 50_000\n",
    "DISPLAY_GRID_SIZE = 10 # irrelevant now that grid has been defined elsewhere\n",
    "NORM_POSTERIOR_SAMPLES = None\n",
    "CONFIDENCE_LEVEL = 0.9\n",
    "DEVICE = 'cuda' if torch.cuda.is_available() else 'cpu'\n",
    "# for reproducibility\n",
    "torch.manual_seed(42)\n",
    "if torch.cuda.is_available():\n",
    "    torch.cuda.manual_seed(42)\n",
    "\n",
    "POI_DIM = 5\n",
    "POIS = ['t_eff', 'logg', 'feh_surf', 'logl', 'dist']\n",
    "LABELS = [r\"$T_{eff}$ (K)\",\n",
    "            r\"$\\log g$ (cgs)\",\n",
    "            r\"$[\\text{Fe/H}]_{\\text{surf}}$ (relative to solar)\",\n",
    "            r\"$\\log L$ ($L_{\\odot}$)\",\n",
    "            r\"$d$ (kpc)\"]\n",
    "PRIOR_SETTINGS = [2.0, 1.0, 0.0, -1.0, -2.0]\n",
    "PRIOR_ARGS = {\n",
    "    'lower_bound' : torch.tensor([2.5e3, 0.0, -4.0, -1.5, 0.0]),\n",
    "    'upper_bound' : torch.tensor([1.5e4, 5.0, 0.5, 3.5, 1.0e3])\n",
    "}\n",
    "PLOT_PRIORS = False # These figures have already been generated\n",
    "\n",
    "assets_dir = f'{os.getcwd()}/assets'\n",
    "os.makedirs(assets_dir, exist_ok=True)\n",
    "params, seds = fetch_grid(assets_dir=assets_dir) # POI grid + raw SEDs"
   ]
  },
  {
   "cell_type": "markdown",
   "metadata": {},
   "source": [
    "# 1. VIEW PRIORS"
   ]
  },
  {
   "cell_type": "code",
   "execution_count": 3,
   "metadata": {},
   "outputs": [],
   "source": [
    "# Set up directories\n",
    "prior_samples = []\n",
    "\n",
    "for PRIOR_SETTING in PRIOR_SETTINGS:\n",
    "    # Get prior\n",
    "    try:\n",
    "        with open(f'{assets_dir}/prior_{PRIOR_SETTING}.pkl', 'rb') as f:\n",
    "            prior = pickle.load(f)\n",
    "    except:\n",
    "        theta, x = sample_joint_distribution(params=params,\n",
    "                                            seds=seds,\n",
    "                                            args={'age_feh_hyperparam': PRIOR_SETTING,},\n",
    "                                            n_samples=B,\n",
    "                                            assets_dir=assets_dir,)\n",
    "        theta_p, x_p = preprocess_inputs(theta, x, ['t_eff', 'logg', 'feh_surf', 'logl', 'dist'])\n",
    "        prior = get_prior(theta_p, prior_args=PRIOR_ARGS)\n",
    "        with open(f'{assets_dir}/prior_{PRIOR_SETTING}.pkl', 'wb') as f:\n",
    "            pickle.dump(prior, f)\n",
    "\n",
    "    prior_samples.append(prior.sample((1_000,)))\n",
    "\n",
    "if PLOT_PRIORS:\n",
    "    theta_dfs = []\n",
    "    # Convert theta to a pandas DataFrame\n",
    "    for i, prior_sample in enumerate(prior_samples):\n",
    "        theta_df_i = pd.DataFrame(prior_sample.numpy(), columns=LABELS)\n",
    "        theta_df_i['set'] = str(i+1)\n",
    "        theta_dfs.append(theta_df_i)\n",
    "\n",
    "    # Convert theta to a pandas DataFrame\n",
    "    theta_df = pd.concat(theta_dfs)\n",
    "\n",
    "    # Create pairwise heatmaps\n",
    "    palette = [\"#ca0020\", \"#f4a582\", \"#f7f7f7\", \"#92c5de\", \"#0571b0\"]\n",
    "    g = sns.pairplot(data=theta_df,\n",
    "                        hue='set',\n",
    "                        palette=sns.color_palette(palette, 5),\n",
    "                        kind='kde',\n",
    "                        diag_kind='hist')\n",
    "\n",
    "    for ax in g.axes.ravel():\n",
    "        ax.invert_xaxis()\n",
    "        ax.invert_yaxis()\n",
    "\n",
    "    plt.savefig(f'{assets_dir}/prior_heatmap.png')"
   ]
  },
  {
   "cell_type": "markdown",
   "metadata": {},
   "source": [
    "# 2. DATA GENERATION"
   ]
  },
  {
   "cell_type": "markdown",
   "metadata": {},
   "source": [
    "## 2a. Look at clusters and display points"
   ]
  },
  {
   "cell_type": "code",
   "execution_count": 4,
   "metadata": {},
   "outputs": [],
   "source": [
    "with open(f'{assets_dir}/tryout_display_grid.pkl', 'rb') as f:\n",
    "    theta_p_d, x_p_d = pickle.load(f)\n",
    "with open(f'{assets_dir}/tryout_display_grid_labels.pkl', 'rb') as f:\n",
    "    display_labels = pickle.load(f)"
   ]
  },
  {
   "cell_type": "code",
   "execution_count": 5,
   "metadata": {},
   "outputs": [
    {
     "data": {
      "text/plain": [
       "(torch.Size([72, 5]), torch.Size([72, 9]), 72)"
      ]
     },
     "execution_count": 5,
     "metadata": {},
     "output_type": "execute_result"
    }
   ],
   "source": [
    "theta_p_d.shape, x_p_d.shape, len(display_labels)"
   ]
  },
  {
   "cell_type": "markdown",
   "metadata": {},
   "source": [
    "## 2b. Make calibration dataset"
   ]
  },
  {
   "cell_type": "code",
   "execution_count": 6,
   "metadata": {},
   "outputs": [],
   "source": [
    "try:\n",
    "    with open(f'{assets_dir}/tryout_calibration_set.pkl', 'rb') as f:\n",
    "        theta_p_c, x_p_c = pickle.load(f)\n",
    "except:\n",
    "    theta_c, x_c = sample_uniform_distribution(params, seds, B_PRIME)\n",
    "    theta_p_c, x_p_c = preprocess_inputs(theta_c, x_c, POIS)\n",
    "    with open(f'{assets_dir}/tryout_calibration_set.pkl', 'wb') as f:\n",
    "        pickle.dump((theta_p_c, x_p_c), f)\n",
    "\n",
    "if PLOT_PRIORS:\n",
    "    theta_df = pd.DataFrame(theta_p_c, columns=LABELS)\n",
    "\n",
    "    # Create pairwise heatmaps\n",
    "    g = sns.pairplot(data=theta_df,\n",
    "                        kind='hist',\n",
    "                        diag_kind='hist')\n",
    "\n",
    "    for ax in g.axes.ravel():\n",
    "        ax.invert_xaxis()\n",
    "        ax.invert_yaxis()\n",
    "\n",
    "    plt.suptitle(f'Calibration set', fontsize=20)\n",
    "    plt.savefig(f'{assets_dir}/calibration_histogram.png')"
   ]
  },
  {
   "cell_type": "markdown",
   "metadata": {},
   "source": [
    "## 2c. Make evaluation grid"
   ]
  },
  {
   "cell_type": "code",
   "execution_count": 7,
   "metadata": {},
   "outputs": [],
   "source": [
    "try:\n",
    "    with open(f'{assets_dir}/tryout_evaluation_grid.pkl', 'rb') as f:\n",
    "        theta_e_c, x_e_c = pickle.load(f)\n",
    "except:\n",
    "    theta_e, x_e = sample_uniform_distribution(params, seds, EVAL_GRID_SIZE)\n",
    "    theta_e_c, x_e_c = preprocess_inputs(theta_e, x_e, POIS)\n",
    "    with open(f'{assets_dir}/tryout_evaluation_grid.pkl', 'wb') as f:\n",
    "        pickle.dump((theta_e_c, x_e_c), f)\n",
    "\n",
    "if PLOT_PRIORS:\n",
    "    theta_df = pd.DataFrame(theta_e_c, columns=LABELS)\n",
    "\n",
    "    # Create pairwise heatmaps\n",
    "    g = sns.pairplot(data=theta_df,\n",
    "                        kind='hist',\n",
    "                        diag_kind='hist')\n",
    "\n",
    "    for ax in g.axes.ravel():\n",
    "        ax.invert_xaxis()\n",
    "        ax.invert_yaxis()\n",
    "\n",
    "    plt.suptitle(f'Evaluation grid', fontsize=20)\n",
    "    plt.savefig(f'{assets_dir}/evaluation_histogram.png')"
   ]
  },
  {
   "cell_type": "markdown",
   "metadata": {},
   "source": [
    "## 2d. Make diagnostics dataset"
   ]
  },
  {
   "cell_type": "code",
   "execution_count": 8,
   "metadata": {},
   "outputs": [],
   "source": [
    "try:\n",
    "    with open(f'{assets_dir}/tryout_diagnostics_set.pkl', 'rb') as f:\n",
    "        theta_p_g, x_p_g = pickle.load(f)\n",
    "except:\n",
    "    theta_c, x_c = sample_uniform_distribution(params, seds, B_DOUBLE_PRIME)\n",
    "    theta_p_g, x_p_g = preprocess_inputs(theta_c, x_c, POIS)\n",
    "    with open(f'{assets_dir}/tryout_diagnostics_set.pkl', 'wb') as f:\n",
    "        pickle.dump((theta_p_g, x_p_g), f)"
   ]
  },
  {
   "cell_type": "code",
   "execution_count": 9,
   "metadata": {},
   "outputs": [],
   "source": [
    "if PLOT_PRIORS:\n",
    "    theta_df = pd.DataFrame(theta_p_g, columns=LABELS)\n",
    "\n",
    "    # Create pairwise heatmaps\n",
    "    g = sns.pairplot(data=theta_df,\n",
    "                        kind='hist',\n",
    "                        diag_kind='hist')\n",
    "\n",
    "    for ax in g.axes.ravel():\n",
    "        ax.invert_xaxis()\n",
    "        ax.invert_yaxis()\n",
    "\n",
    "    plt.suptitle(f'Diagnostics set', fontsize=20)\n",
    "    plt.savefig(f'{assets_dir}/diagnostics_histogram.png')"
   ]
  },
  {
   "cell_type": "markdown",
   "metadata": {},
   "source": [
    "# 3. Inference\n",
    "\n",
    "As a sanity check, let's see how MAF looks"
   ]
  },
  {
   "cell_type": "code",
   "execution_count": 10,
   "metadata": {},
   "outputs": [],
   "source": [
    "PRIOR_SETTING = 2.0\n",
    "example_dir_for_setting = f'{os.getcwd()}/results/results_121624/example_{FLOW_TYPE}/setting_{PRIOR_SETTING}'\n",
    "os.makedirs(example_dir_for_setting, exist_ok=True)"
   ]
  },
  {
   "cell_type": "markdown",
   "metadata": {},
   "source": [
    "## 3a. Prior"
   ]
  },
  {
   "cell_type": "code",
   "execution_count": 11,
   "metadata": {},
   "outputs": [],
   "source": [
    "# Get prior\n",
    "try:\n",
    "    with open(f'{assets_dir}/prior_{PRIOR_SETTING}.pkl', 'rb') as f:\n",
    "        prior = pickle.load(f)\n",
    "except:\n",
    "    params, seds = fetch_grid(assets_dir=assets_dir)\n",
    "    theta, x = sample_joint_distribution(params=params,\n",
    "                                        seds=seds,\n",
    "                                        args={'age_feh_hyperparam': PRIOR_SETTING,},\n",
    "                                        n_samples=B,\n",
    "                                        assets_dir=assets_dir,)\n",
    "    theta_p, x_p = preprocess_inputs(theta, x, ['t_eff', 'logg', 'feh_surf', 'logl', 'dist'])\n",
    "    prior = get_prior(theta_p, prior_args=PRIOR_ARGS)\n",
    "    with open(f'{assets_dir}/prior_{PRIOR_SETTING}.pkl', 'wb') as f:\n",
    "        pickle.dump(prior, f)"
   ]
  },
  {
   "cell_type": "markdown",
   "metadata": {},
   "source": [
    "## 3b. Training set"
   ]
  },
  {
   "cell_type": "code",
   "execution_count": 12,
   "metadata": {},
   "outputs": [],
   "source": [
    "try:\n",
    "    with open(f'{assets_dir}/tryout_set_{PRIOR_SETTING}.pkl', 'rb') as f:\n",
    "        theta_p, x_p = pickle.load(f)\n",
    "except:\n",
    "    params, seds = fetch_grid(assets_dir=assets_dir)\n",
    "    theta, x = sample_joint_distribution(params=params,\n",
    "                                        seds=seds,\n",
    "                                        args={'age_feh_hyperparam': PRIOR_SETTING,},\n",
    "                                        n_samples=B,\n",
    "                                        assets_dir=assets_dir,)\n",
    "    theta_p, x_p = preprocess_inputs(theta, x, POIS)\n",
    "    with open(f'{assets_dir}/tryout_set_{PRIOR_SETTING}.pkl', 'wb') as f:\n",
    "        pickle.dump((theta_p, x_p), f)"
   ]
  },
  {
   "cell_type": "markdown",
   "metadata": {},
   "source": [
    "## 3c. Posterior"
   ]
  },
  {
   "cell_type": "code",
   "execution_count": 13,
   "metadata": {},
   "outputs": [],
   "source": [
    "try:\n",
    "    with open(f'{assets_dir}/posterior_{PRIOR_SETTING}_{FLOW_TYPE}.pkl', 'rb') as f:\n",
    "        posterior = pickle.load(f)\n",
    "except:\n",
    "    posterior = get_posterior(theta_p, x_p, prior, flow_type=FLOW_TYPE)\n",
    "    with open(f'{assets_dir}/posterior_{PRIOR_SETTING}_{FLOW_TYPE}.pkl', 'wb') as f:\n",
    "        pickle.dump(posterior, f)"
   ]
  },
  {
   "cell_type": "markdown",
   "metadata": {},
   "source": [
    "## 3d. LF2I"
   ]
  },
  {
   "cell_type": "code",
   "execution_count": 14,
   "metadata": {},
   "outputs": [],
   "source": [
    "try:\n",
    "    with open(f'{example_dir_for_setting}/lf2i.pkl', 'rb') as f:\n",
    "        lf2i = pickle.load(f)\n",
    "except:\n",
    "    lf2i = LF2I(\n",
    "        test_statistic=Posterior(\n",
    "            poi_dim=POI_DIM, estimator=posterior, norm_posterior_samples=NORM_POSTERIOR_SAMPLES\n",
    "        )\n",
    "    )\n",
    "    with open(f'{example_dir_for_setting}/lf2i.pkl', 'wb') as f:\n",
    "        pickle.dump(lf2i, f)"
   ]
  },
  {
   "cell_type": "markdown",
   "metadata": {},
   "source": [
    "## 3e. Credible regions"
   ]
  },
  {
   "cell_type": "code",
   "execution_count": 15,
   "metadata": {},
   "outputs": [],
   "source": [
    "try:\n",
    "    with open(f'{example_dir_for_setting}/credible_regions.pkl', 'rb') as f:\n",
    "        credible_regions = pickle.load(f)\n",
    "except:\n",
    "    credible_regions = [\n",
    "        hpd_region(\n",
    "            posterior=lf2i.test_statistic.estimator,\n",
    "            param_grid=posterior.sample((100_000,), x=true_x),\n",
    "            x=true_x,\n",
    "            credible_level=CONFIDENCE_LEVEL,\n",
    "            num_level_sets=10_000,\n",
    "        )\n",
    "        for true_x in tqdm(x_p_d)\n",
    "    ]\n",
    "    with open(f'{example_dir_for_setting}/credible_regions.pkl', 'wb') as f:\n",
    "        pickle.dump(credible_regions, f)"
   ]
  },
  {
   "cell_type": "code",
   "execution_count": 16,
   "metadata": {},
   "outputs": [],
   "source": [
    "# param_space_df = pd.DataFrame(theta_e_c, columns=LABELS).sample(50_000)\n",
    "# param_space_df['type'] = r'$\\Theta$'\n",
    "\n",
    "# for idx, (true_theta, region) in enumerate(zip(theta_p_d[:1], credible_regions[:1])):\n",
    "#     region_df = pd.DataFrame(region[1], columns=LABELS)#.sample(min(50_000, len(region[1])))\n",
    "#     region_df['type'] = 'HPD'\n",
    "#     truth_df = pd.DataFrame(true_theta.unsqueeze(0).numpy(), columns=LABELS)\n",
    "#     truth_df['type'] = 'Truth'\n",
    "#     theta_df = pd.concat([param_space_df, region_df.sample(1), truth_df])\n",
    "\n",
    "#     # Create pairwise heatmaps\n",
    "#     palette = [\"#808080\", \"#BF40BF\", \"#FF0000\"]\n",
    "#     g = sns.pairplot(data=theta_df,\n",
    "#                         hue='type',\n",
    "#                         palette=sns.color_palette(palette, 3),\n",
    "#                         kind='hist',\n",
    "#                         diag_kind='hist',)\n",
    "\n",
    "#     for ax in g.axes.ravel():\n",
    "#         if ax.get_xlabel() and ax.get_ylabel():\n",
    "#             sns.scatterplot(data=truth_df, x=ax.get_xlabel(), y=ax.get_ylabel(), color='red', marker='*', s=100, ax=ax)\n",
    "#             sns.scatterplot(data=region_df, x=ax.get_xlabel(), y=ax.get_ylabel(), color=\"#BF40BF\", marker='.', s=1, ax=ax)\n",
    "#         ax.invert_xaxis()\n",
    "#         ax.invert_yaxis()\n",
    "\n",
    "#     plt.suptitle(f'HPD Set ({display_labels[idx]})', fontsize=20)\n",
    "#     # plt.savefig(f'{example_dir_for_setting}/hpd_for_pt_{display_labels[idx]}.png')\n",
    "#     plt.show()"
   ]
  },
  {
   "cell_type": "code",
   "execution_count": 17,
   "metadata": {},
   "outputs": [],
   "source": [
    "# truth_contained = []\n",
    "\n",
    "# for idx, (true_x, true_theta) in enumerate(zip(x_p_d, theta_p_d)):\n",
    "#     posterior_at_truth = lf2i.test_statistic.evaluate(parameters=true_theta.unsqueeze(0), samples=true_x.unsqueeze(0), mode='critical_values')\n",
    "#     posterior_at_hpd = lf2i.test_statistic.evaluate(parameters=credible_regions[idx][1], samples=true_x.unsqueeze(0), mode='confidence_sets')\n",
    "#     truth_contained.append(np.sum(posterior_at_truth > posterior_at_hpd) > 1)\n",
    "#     if np.sum(posterior_at_truth > posterior_at_hpd) > 1:\n",
    "#         print('HPD contains truth!')"
   ]
  },
  {
   "cell_type": "code",
   "execution_count": 18,
   "metadata": {},
   "outputs": [],
   "source": [
    "# import seaborn as sns\n",
    "# import pandas as pd\n",
    "# import matplotlib.pyplot as plt\n",
    "\n",
    "# # Convert theta_calib to a pandas DataFrame\n",
    "# theta_calib_df = pd.DataFrame(theta_e_c, columns=LABELS)\n",
    "# theta_display_df = pd.DataFrame(theta_p_d, columns=LABELS)\n",
    "# theta_display_df['covered'] = truth_contained\n",
    "# # theta_display_df['label'] = [f'{label}' for label in display_labels]\n",
    "\n",
    "# # Plot pairplots\n",
    "# g = sns.pairplot(data=theta_calib_df, diag_kind='hist', kind='hist')\n",
    "\n",
    "# def label_point(x, y, val, ax):\n",
    "#     a = pd.concat({'x': x, 'y': y, 'val': val}, axis=1)\n",
    "#     for i, point in a.iterrows():\n",
    "#         ax.text(point['x']-.2, point['y'], str(point['val']), fontsize=4)\n",
    "\n",
    "# for ax in g.axes.ravel():\n",
    "#     if ax.get_xlabel() and ax.get_ylabel():\n",
    "#         sns.scatterplot(data=theta_display_df[truth_contained], x=ax.get_xlabel(), y=ax.get_ylabel(), marker='*', s=100, ax=ax, color='red')\n",
    "#         # label_point(theta_display_df[ax.get_xlabel()], theta_display_df[ax.get_ylabel()], theta_display_df['label'], ax)\n",
    "#     ax.invert_xaxis()\n",
    "#     ax.invert_yaxis()\n",
    "\n",
    "# plt.suptitle(f'Display grid', fontsize=20)\n",
    "# # plt.savefig(f'{assets_dir}/display_grid_pairs.png')\n",
    "# plt.show()\n",
    "# plt.close()"
   ]
  },
  {
   "cell_type": "markdown",
   "metadata": {},
   "source": [
    "## 3f. Confidence sets"
   ]
  },
  {
   "cell_type": "code",
   "execution_count": null,
   "metadata": {},
   "outputs": [],
   "source": [
    "try:\n",
    "    with open(f'{example_dir_for_setting}/confidence_sets.pkl', 'rb') as f:\n",
    "        confidence_sets = pickle.load(f)\n",
    "except:\n",
    "    confidence_sets = [\n",
    "        lf2i.inference( # TODO: LF2I returns failed QR (lack of coverage in all cases?)\n",
    "            x=true_x.unsqueeze(0),\n",
    "            evaluation_grid=torch.vstack([posterior.sample((100_000,), x=true_x.unsqueeze(0)),\n",
    "                                        theta_e_c]),\n",
    "            confidence_level=CONFIDENCE_LEVEL,\n",
    "            calibration_method='critical-values',\n",
    "            calibration_model='cat-gb',\n",
    "            calibration_model_kwargs={\n",
    "                'cv': {'iterations': [100, 300, 500, 700, 1000], 'depth': [1, 3, 5, 7, 9]},\n",
    "                'n_iter': 25\n",
    "            },\n",
    "            T_prime=(theta_p_c, x_p_c),\n",
    "            retrain_calibration=False\n",
    "        )[0]\n",
    "        for true_x in tqdm(x_p_d)\n",
    "    ]\n",
    "    with open(f'{example_dir_for_setting}/confidence_sets.pkl', 'wb') as f:\n",
    "        pickle.dump(confidence_sets, f)"
   ]
  },
  {
   "cell_type": "code",
   "execution_count": 29,
   "metadata": {},
   "outputs": [],
   "source": [
    "def compute_lf2i_sampling_posterior(posterior, parameters, samples, credible_level, verbose=False, n_jobs=-2):\n",
    "    from sbi.simulators.simutils import tqdm_joblib\n",
    "    from joblib import Parallel, delayed\n",
    "    from tqdm import tqdm\n",
    "    import numpy as np\n",
    "\n",
    "    def single_lf2i_set(idx):\n",
    "        p = posterior\n",
    "        confidence_set = lf2i.inference( # TODO: LF2I returns failed QR (lack of coverage in all cases?)\n",
    "            x=samples[idx].unsqueeze(0),\n",
    "            evaluation_grid=torch.vstack([p.sample((5_000,), x=samples[idx].unsqueeze(0)),\n",
    "                                        theta_e_c,\n",
    "                                        parameters[idx].unsqueeze(0)]),\n",
    "            confidence_level=CONFIDENCE_LEVEL,\n",
    "            calibration_method='critical-values',\n",
    "            calibration_model='cat-gb',\n",
    "            calibration_model_kwargs={\n",
    "                'cv': {'iterations': [100, 300, 500, 700, 1000], 'depth': [1, 3, 5, 7, 9]},\n",
    "                'n_iter': 25\n",
    "            },\n",
    "            T_prime=(theta_p_c, x_p_c),\n",
    "            retrain_calibration=False\n",
    "        )[0]\n",
    "        indicator = 1 if parameters[idx].unsqueeze(0).numpy() in confidence_set else 0\n",
    "        return confidence_set, indicator\n",
    "\n",
    "    with tqdm_joblib(tqdm(it:=range(samples.shape[0]), desc=f\"Computing indicators for {len(it)} confidence sets\", total=len(it), disable=not verbose)) as _:\n",
    "        out = list(zip(*Parallel(n_jobs=n_jobs)(delayed(single_lf2i_set)(idx) for idx in it)))\n",
    "    confidence_sets, indicators = out[0], np.array(out[1])\n",
    "    return confidence_sets, indicators"
   ]
  },
  {
   "cell_type": "code",
   "execution_count": 30,
   "metadata": {},
   "outputs": [
    {
     "name": "stderr",
     "output_type": "stream",
     "text": [
      "\n",
      "\u001b[A"
     ]
    },
    {
     "data": {
      "application/vnd.jupyter.widget-view+json": {
       "model_id": "9b0a1b6b395b436fb516f585b38b2d72",
       "version_major": 2,
       "version_minor": 0
      },
      "text/plain": [
       "Drawing 5000 posterior samples:   0%|          | 0/5000 [00:00<?, ?it/s]"
      ]
     },
     "metadata": {},
     "output_type": "display_data"
    },
    {
     "name": "stdout",
     "output_type": "stream",
     "text": [
      "\n",
      "Constructing confidence regions ...\n"
     ]
    },
    {
     "name": "stderr",
     "output_type": "stream",
     "text": [
      "\n",
      "\n",
      "\u001b[A\u001b[A\n",
      "\n",
      "Evaluating posterior for 1 points ...: 100%|██████████| 1/1 [00:06<00:00,  6.48s/it]\n",
      "\n",
      "\u001b[A"
     ]
    },
    {
     "data": {
      "application/vnd.jupyter.widget-view+json": {
       "model_id": "7791c39ff0a847a1845b3b67cfa2296e",
       "version_major": 2,
       "version_minor": 0
      },
      "text/plain": [
       "Drawing 5000 posterior samples:   0%|          | 0/5000 [00:00<?, ?it/s]"
      ]
     },
     "metadata": {},
     "output_type": "display_data"
    },
    {
     "name": "stdout",
     "output_type": "stream",
     "text": [
      "\n",
      "Constructing confidence regions ...\n"
     ]
    },
    {
     "name": "stderr",
     "output_type": "stream",
     "text": [
      "\n",
      "\n",
      "\u001b[A\u001b[A\n",
      "\n",
      "Evaluating posterior for 1 points ...: 100%|██████████| 1/1 [00:06<00:00,  6.33s/it]\n",
      "\n",
      "\u001b[A"
     ]
    },
    {
     "data": {
      "application/vnd.jupyter.widget-view+json": {
       "model_id": "44447ba8974042228d11170f47c0eb3d",
       "version_major": 2,
       "version_minor": 0
      },
      "text/plain": [
       "Drawing 5000 posterior samples:   0%|          | 0/5000 [00:00<?, ?it/s]"
      ]
     },
     "metadata": {},
     "output_type": "display_data"
    },
    {
     "name": "stderr",
     "output_type": "stream",
     "text": [
      "WARNING:root:Only 0.459% proposal samples are\n",
      "                    accepted. It may take a long time to collect the remaining\n",
      "                    3967 samples. Consider interrupting (Ctrl-C) and switching to\n",
      "                    `build_posterior(..., sample_with='mcmc')`.\n"
     ]
    },
    {
     "name": "stdout",
     "output_type": "stream",
     "text": [
      "\n",
      "Constructing confidence regions ...\n"
     ]
    },
    {
     "name": "stderr",
     "output_type": "stream",
     "text": [
      "\n",
      "\n",
      "\u001b[A\u001b[A\n",
      "\n",
      "Evaluating posterior for 1 points ...: 100%|██████████| 1/1 [00:07<00:00,  7.57s/it]\n",
      "\n",
      "\u001b[A"
     ]
    },
    {
     "data": {
      "application/vnd.jupyter.widget-view+json": {
       "model_id": "a07610b61af544128613dbbc2ed9a399",
       "version_major": 2,
       "version_minor": 0
      },
      "text/plain": [
       "Drawing 5000 posterior samples:   0%|          | 0/5000 [00:00<?, ?it/s]"
      ]
     },
     "metadata": {},
     "output_type": "display_data"
    },
    {
     "name": "stdout",
     "output_type": "stream",
     "text": [
      "\n",
      "Constructing confidence regions ...\n"
     ]
    },
    {
     "name": "stderr",
     "output_type": "stream",
     "text": [
      "\n",
      "\n",
      "\u001b[A\u001b[A\n",
      "\n",
      "Evaluating posterior for 1 points ...: 100%|██████████| 1/1 [00:06<00:00,  6.63s/it]\n",
      "\n",
      "\u001b[A"
     ]
    },
    {
     "data": {
      "application/vnd.jupyter.widget-view+json": {
       "model_id": "39cbce5036854001a10f3269325bbbea",
       "version_major": 2,
       "version_minor": 0
      },
      "text/plain": [
       "Drawing 5000 posterior samples:   0%|          | 0/5000 [00:00<?, ?it/s]"
      ]
     },
     "metadata": {},
     "output_type": "display_data"
    },
    {
     "name": "stdout",
     "output_type": "stream",
     "text": [
      "\n",
      "Constructing confidence regions ...\n"
     ]
    },
    {
     "name": "stderr",
     "output_type": "stream",
     "text": [
      "\n",
      "\n",
      "\u001b[A\u001b[A\n",
      "\n",
      "Evaluating posterior for 1 points ...: 100%|██████████| 1/1 [00:06<00:00,  6.32s/it]\n",
      "\n",
      "\u001b[A"
     ]
    },
    {
     "data": {
      "application/vnd.jupyter.widget-view+json": {
       "model_id": "e20cf35d3db542b7a6cd103e126d2cc0",
       "version_major": 2,
       "version_minor": 0
      },
      "text/plain": [
       "Drawing 5000 posterior samples:   0%|          | 0/5000 [00:00<?, ?it/s]"
      ]
     },
     "metadata": {},
     "output_type": "display_data"
    },
    {
     "name": "stderr",
     "output_type": "stream",
     "text": [
      "WARNING:root:Only 0.161% proposal samples are\n",
      "                    accepted. It may take a long time to collect the remaining\n",
      "                    3992 samples. Consider interrupting (Ctrl-C) and switching to\n",
      "                    `build_posterior(..., sample_with='mcmc')`.\n"
     ]
    },
    {
     "name": "stdout",
     "output_type": "stream",
     "text": [
      "\n",
      "Constructing confidence regions ...\n"
     ]
    },
    {
     "name": "stderr",
     "output_type": "stream",
     "text": [
      "\n",
      "\n",
      "\u001b[A\u001b[A\n",
      "\n",
      "Evaluating posterior for 1 points ...: 100%|██████████| 1/1 [00:06<00:00,  6.38s/it]\n",
      "\n",
      "\u001b[A"
     ]
    },
    {
     "data": {
      "application/vnd.jupyter.widget-view+json": {
       "model_id": "6d329c43914c4b55b88bce5553a3f140",
       "version_major": 2,
       "version_minor": 0
      },
      "text/plain": [
       "Drawing 5000 posterior samples:   0%|          | 0/5000 [00:00<?, ?it/s]"
      ]
     },
     "metadata": {},
     "output_type": "display_data"
    },
    {
     "name": "stdout",
     "output_type": "stream",
     "text": [
      "\n",
      "Constructing confidence regions ...\n"
     ]
    },
    {
     "name": "stderr",
     "output_type": "stream",
     "text": [
      "\n",
      "\n",
      "\u001b[A\u001b[A\n",
      "\n",
      "Evaluating posterior for 1 points ...: 100%|██████████| 1/1 [00:06<00:00,  6.97s/it]\n",
      "\n",
      "\u001b[A"
     ]
    },
    {
     "data": {
      "application/vnd.jupyter.widget-view+json": {
       "model_id": "7b9a1a66d3a149cf8447ea1119b385a1",
       "version_major": 2,
       "version_minor": 0
      },
      "text/plain": [
       "Drawing 5000 posterior samples:   0%|          | 0/5000 [00:00<?, ?it/s]"
      ]
     },
     "metadata": {},
     "output_type": "display_data"
    },
    {
     "name": "stdout",
     "output_type": "stream",
     "text": [
      "\n",
      "Constructing confidence regions ...\n"
     ]
    },
    {
     "name": "stderr",
     "output_type": "stream",
     "text": [
      "\n",
      "\n",
      "\u001b[A\u001b[A\n",
      "\n",
      "Evaluating posterior for 1 points ...: 100%|██████████| 1/1 [00:06<00:00,  6.70s/it]\n",
      "\n",
      "\u001b[A"
     ]
    },
    {
     "data": {
      "application/vnd.jupyter.widget-view+json": {
       "model_id": "95e1e5e39aff44c1b2b850f06b6e5e23",
       "version_major": 2,
       "version_minor": 0
      },
      "text/plain": [
       "Drawing 5000 posterior samples:   0%|          | 0/5000 [00:00<?, ?it/s]"
      ]
     },
     "metadata": {},
     "output_type": "display_data"
    },
    {
     "name": "stderr",
     "output_type": "stream",
     "text": [
      "WARNING:root:Only 0.031% proposal samples are\n",
      "                    accepted. It may take a long time to collect the remaining\n",
      "                    3999 samples. Consider interrupting (Ctrl-C) and switching to\n",
      "                    `build_posterior(..., sample_with='mcmc')`.\n"
     ]
    },
    {
     "name": "stdout",
     "output_type": "stream",
     "text": [
      "\n",
      "Constructing confidence regions ...\n"
     ]
    },
    {
     "name": "stderr",
     "output_type": "stream",
     "text": [
      "\n",
      "\n",
      "\u001b[A\u001b[A\n",
      "\n",
      "Evaluating posterior for 1 points ...: 100%|██████████| 1/1 [00:00<00:00,  1.37it/s]\n",
      "\n",
      "\u001b[A"
     ]
    },
    {
     "data": {
      "application/vnd.jupyter.widget-view+json": {
       "model_id": "033a4b6f9f3a4f7f9859485979e4fd1f",
       "version_major": 2,
       "version_minor": 0
      },
      "text/plain": [
       "Drawing 5000 posterior samples:   0%|          | 0/5000 [00:00<?, ?it/s]"
      ]
     },
     "metadata": {},
     "output_type": "display_data"
    },
    {
     "name": "stdout",
     "output_type": "stream",
     "text": [
      "\n",
      "Constructing confidence regions ...\n"
     ]
    },
    {
     "name": "stderr",
     "output_type": "stream",
     "text": [
      "\n",
      "\n",
      "\u001b[A\u001b[A\n",
      "\n",
      "Evaluating posterior for 1 points ...: 100%|██████████| 1/1 [00:00<00:00,  1.60it/s]\n",
      "\n",
      "\u001b[A"
     ]
    },
    {
     "data": {
      "application/vnd.jupyter.widget-view+json": {
       "model_id": "325b1566a0d7424a81e2a941f43bf056",
       "version_major": 2,
       "version_minor": 0
      },
      "text/plain": [
       "Drawing 5000 posterior samples:   0%|          | 0/5000 [00:00<?, ?it/s]"
      ]
     },
     "metadata": {},
     "output_type": "display_data"
    },
    {
     "name": "stdout",
     "output_type": "stream",
     "text": [
      "\n",
      "Constructing confidence regions ...\n"
     ]
    },
    {
     "name": "stderr",
     "output_type": "stream",
     "text": [
      "\n",
      "\n",
      "\u001b[A\u001b[A\n",
      "\n",
      "Evaluating posterior for 1 points ...: 100%|██████████| 1/1 [00:00<00:00,  2.32it/s]\n",
      "\n",
      "\u001b[A"
     ]
    },
    {
     "data": {
      "application/vnd.jupyter.widget-view+json": {
       "model_id": "1242e7ecb99641d79cd13676df30dacf",
       "version_major": 2,
       "version_minor": 0
      },
      "text/plain": [
       "Drawing 5000 posterior samples:   0%|          | 0/5000 [00:00<?, ?it/s]"
      ]
     },
     "metadata": {},
     "output_type": "display_data"
    },
    {
     "name": "stderr",
     "output_type": "stream",
     "text": [
      "WARNING:root:Only 0.024% proposal samples are\n",
      "                    accepted. It may take a long time to collect the remaining\n",
      "                    3993 samples. Consider interrupting (Ctrl-C) and switching to\n",
      "                    `build_posterior(..., sample_with='mcmc')`.\n"
     ]
    },
    {
     "name": "stdout",
     "output_type": "stream",
     "text": [
      "\n",
      "Constructing confidence regions ...\n"
     ]
    },
    {
     "name": "stderr",
     "output_type": "stream",
     "text": [
      "\n",
      "\n",
      "\u001b[A\u001b[A\n",
      "\n",
      "Evaluating posterior for 1 points ...: 100%|██████████| 1/1 [00:08<00:00,  8.97s/it]\n",
      "\n",
      "\u001b[A"
     ]
    },
    {
     "data": {
      "application/vnd.jupyter.widget-view+json": {
       "model_id": "97d9fe994ffa44d4b6f558a43a8a0d80",
       "version_major": 2,
       "version_minor": 0
      },
      "text/plain": [
       "Drawing 5000 posterior samples:   0%|          | 0/5000 [00:00<?, ?it/s]"
      ]
     },
     "metadata": {},
     "output_type": "display_data"
    },
    {
     "name": "stdout",
     "output_type": "stream",
     "text": [
      "\n",
      "Constructing confidence regions ...\n"
     ]
    },
    {
     "name": "stderr",
     "output_type": "stream",
     "text": [
      "\n",
      "\n",
      "\u001b[A\u001b[A\n",
      "\n",
      "Evaluating posterior for 1 points ...: 100%|██████████| 1/1 [00:06<00:00,  6.18s/it]\n",
      "\n",
      "\u001b[A"
     ]
    },
    {
     "data": {
      "application/vnd.jupyter.widget-view+json": {
       "model_id": "e2772b9f6c6a4e6b82dae977618718c8",
       "version_major": 2,
       "version_minor": 0
      },
      "text/plain": [
       "Drawing 5000 posterior samples:   0%|          | 0/5000 [00:00<?, ?it/s]"
      ]
     },
     "metadata": {},
     "output_type": "display_data"
    },
    {
     "name": "stdout",
     "output_type": "stream",
     "text": [
      "\n",
      "Constructing confidence regions ...\n"
     ]
    },
    {
     "name": "stderr",
     "output_type": "stream",
     "text": [
      "\n",
      "\n",
      "\u001b[A\u001b[A\n",
      "\n",
      "Evaluating posterior for 1 points ...: 100%|██████████| 1/1 [00:00<00:00,  1.72it/s]\n",
      "\n",
      "\u001b[A"
     ]
    },
    {
     "data": {
      "application/vnd.jupyter.widget-view+json": {
       "model_id": "dcfcbf10ca9f456190a873b5cb39a6c5",
       "version_major": 2,
       "version_minor": 0
      },
      "text/plain": [
       "Drawing 5000 posterior samples:   0%|          | 0/5000 [00:00<?, ?it/s]"
      ]
     },
     "metadata": {},
     "output_type": "display_data"
    },
    {
     "name": "stderr",
     "output_type": "stream",
     "text": [
      "WARNING:root:Only 0.051% proposal samples are\n",
      "                    accepted. It may take a long time to collect the remaining\n",
      "                    3997 samples. Consider interrupting (Ctrl-C) and switching to\n",
      "                    `build_posterior(..., sample_with='mcmc')`.\n"
     ]
    },
    {
     "name": "stdout",
     "output_type": "stream",
     "text": [
      "\n",
      "Constructing confidence regions ...\n"
     ]
    },
    {
     "name": "stderr",
     "output_type": "stream",
     "text": [
      "\n",
      "\n",
      "\u001b[A\u001b[A\n",
      "\n",
      "Evaluating posterior for 1 points ...: 100%|██████████| 1/1 [00:07<00:00,  7.24s/it]\n",
      "\n",
      "\u001b[A"
     ]
    },
    {
     "data": {
      "application/vnd.jupyter.widget-view+json": {
       "model_id": "7be4ccd2690040c8a201b268fdcfd31b",
       "version_major": 2,
       "version_minor": 0
      },
      "text/plain": [
       "Drawing 5000 posterior samples:   0%|          | 0/5000 [00:00<?, ?it/s]"
      ]
     },
     "metadata": {},
     "output_type": "display_data"
    },
    {
     "name": "stdout",
     "output_type": "stream",
     "text": [
      "\n",
      "Constructing confidence regions ...\n"
     ]
    },
    {
     "name": "stderr",
     "output_type": "stream",
     "text": [
      "\n",
      "\n",
      "\u001b[A\u001b[A\n",
      "\n",
      "Evaluating posterior for 1 points ...: 100%|██████████| 1/1 [00:06<00:00,  6.14s/it]\n",
      "\n",
      "\u001b[A"
     ]
    },
    {
     "data": {
      "application/vnd.jupyter.widget-view+json": {
       "model_id": "e6eef8ca406d4d9c87d63f0da5340d9a",
       "version_major": 2,
       "version_minor": 0
      },
      "text/plain": [
       "Drawing 5000 posterior samples:   0%|          | 0/5000 [00:00<?, ?it/s]"
      ]
     },
     "metadata": {},
     "output_type": "display_data"
    },
    {
     "name": "stdout",
     "output_type": "stream",
     "text": [
      "\n",
      "Constructing confidence regions ...\n"
     ]
    },
    {
     "name": "stderr",
     "output_type": "stream",
     "text": [
      "\n",
      "\n",
      "\u001b[A\u001b[A\n",
      "\n",
      "Evaluating posterior for 1 points ...: 100%|██████████| 1/1 [00:06<00:00,  6.27s/it]\n",
      "\n",
      "\u001b[A"
     ]
    },
    {
     "data": {
      "application/vnd.jupyter.widget-view+json": {
       "model_id": "27cb018f074c420bb8ed0c6d4507a871",
       "version_major": 2,
       "version_minor": 0
      },
      "text/plain": [
       "Drawing 5000 posterior samples:   0%|          | 0/5000 [00:00<?, ?it/s]"
      ]
     },
     "metadata": {},
     "output_type": "display_data"
    },
    {
     "name": "stderr",
     "output_type": "stream",
     "text": [
      "WARNING:root:Only 0.061% proposal samples are\n",
      "                    accepted. It may take a long time to collect the remaining\n",
      "                    3996 samples. Consider interrupting (Ctrl-C) and switching to\n",
      "                    `build_posterior(..., sample_with='mcmc')`.\n"
     ]
    },
    {
     "name": "stdout",
     "output_type": "stream",
     "text": [
      "\n",
      "Constructing confidence regions ...\n"
     ]
    },
    {
     "name": "stderr",
     "output_type": "stream",
     "text": [
      "\n",
      "\n",
      "\u001b[A\u001b[A\n",
      "\n",
      "Evaluating posterior for 1 points ...: 100%|██████████| 1/1 [00:07<00:00,  7.67s/it]\n",
      "\n",
      "\u001b[A"
     ]
    },
    {
     "data": {
      "application/vnd.jupyter.widget-view+json": {
       "model_id": "0d7d44c0c50c42fc9c4173df18f00416",
       "version_major": 2,
       "version_minor": 0
      },
      "text/plain": [
       "Drawing 5000 posterior samples:   0%|          | 0/5000 [00:00<?, ?it/s]"
      ]
     },
     "metadata": {},
     "output_type": "display_data"
    },
    {
     "name": "stdout",
     "output_type": "stream",
     "text": [
      "\n",
      "Constructing confidence regions ...\n"
     ]
    },
    {
     "name": "stderr",
     "output_type": "stream",
     "text": [
      "\n",
      "\n",
      "\u001b[A\u001b[A\n",
      "\n",
      "Evaluating posterior for 1 points ...: 100%|██████████| 1/1 [00:06<00:00,  6.26s/it]\n",
      "\n",
      "\u001b[A"
     ]
    },
    {
     "data": {
      "application/vnd.jupyter.widget-view+json": {
       "model_id": "bb478281b6ef493ba607c6d637252eab",
       "version_major": 2,
       "version_minor": 0
      },
      "text/plain": [
       "Drawing 5000 posterior samples:   0%|          | 0/5000 [00:00<?, ?it/s]"
      ]
     },
     "metadata": {},
     "output_type": "display_data"
    },
    {
     "name": "stdout",
     "output_type": "stream",
     "text": [
      "\n",
      "Constructing confidence regions ...\n"
     ]
    },
    {
     "name": "stderr",
     "output_type": "stream",
     "text": [
      "\n",
      "\n",
      "\u001b[A\u001b[A\n",
      "\n",
      "Evaluating posterior for 1 points ...: 100%|██████████| 1/1 [00:06<00:00,  6.08s/it]\n",
      "\n",
      "\u001b[A"
     ]
    },
    {
     "data": {
      "application/vnd.jupyter.widget-view+json": {
       "model_id": "ddcc686e178d482c999abbd692fa531f",
       "version_major": 2,
       "version_minor": 0
      },
      "text/plain": [
       "Drawing 5000 posterior samples:   0%|          | 0/5000 [00:00<?, ?it/s]"
      ]
     },
     "metadata": {},
     "output_type": "display_data"
    },
    {
     "name": "stderr",
     "output_type": "stream",
     "text": [
      "WARNING:root:Only 0.083% proposal samples are\n",
      "                    accepted. It may take a long time to collect the remaining\n",
      "                    3995 samples. Consider interrupting (Ctrl-C) and switching to\n",
      "                    `build_posterior(..., sample_with='mcmc')`.\n"
     ]
    },
    {
     "name": "stdout",
     "output_type": "stream",
     "text": [
      "\n",
      "Constructing confidence regions ...\n"
     ]
    },
    {
     "name": "stderr",
     "output_type": "stream",
     "text": [
      "\n",
      "\n",
      "\u001b[A\u001b[A\n",
      "\n",
      "Evaluating posterior for 1 points ...: 100%|██████████| 1/1 [00:00<00:00,  1.51it/s]\n",
      "\n",
      "\u001b[A"
     ]
    },
    {
     "data": {
      "application/vnd.jupyter.widget-view+json": {
       "model_id": "eeb7f6ea18884d31bc727787a6eb141f",
       "version_major": 2,
       "version_minor": 0
      },
      "text/plain": [
       "Drawing 5000 posterior samples:   0%|          | 0/5000 [00:00<?, ?it/s]"
      ]
     },
     "metadata": {},
     "output_type": "display_data"
    },
    {
     "name": "stdout",
     "output_type": "stream",
     "text": [
      "\n",
      "Constructing confidence regions ...\n"
     ]
    },
    {
     "name": "stderr",
     "output_type": "stream",
     "text": [
      "\n",
      "\n",
      "\u001b[A\u001b[A\n",
      "\n",
      "Evaluating posterior for 1 points ...: 100%|██████████| 1/1 [00:00<00:00,  1.65it/s]\n",
      "\n",
      "\u001b[A"
     ]
    },
    {
     "data": {
      "application/vnd.jupyter.widget-view+json": {
       "model_id": "1d03c65a802d44f39acbe1c32a8ced77",
       "version_major": 2,
       "version_minor": 0
      },
      "text/plain": [
       "Drawing 5000 posterior samples:   0%|          | 0/5000 [00:00<?, ?it/s]"
      ]
     },
     "metadata": {},
     "output_type": "display_data"
    },
    {
     "name": "stdout",
     "output_type": "stream",
     "text": [
      "\n",
      "Constructing confidence regions ...\n"
     ]
    },
    {
     "name": "stderr",
     "output_type": "stream",
     "text": [
      "\n",
      "\n",
      "\u001b[A\u001b[A\n",
      "\n",
      "Evaluating posterior for 1 points ...: 100%|██████████| 1/1 [00:07<00:00,  7.91s/it]\n",
      "\n",
      "\u001b[A"
     ]
    },
    {
     "data": {
      "application/vnd.jupyter.widget-view+json": {
       "model_id": "c78e6358bccb43ac88e506f9d02b0908",
       "version_major": 2,
       "version_minor": 0
      },
      "text/plain": [
       "Drawing 5000 posterior samples:   0%|          | 0/5000 [00:00<?, ?it/s]"
      ]
     },
     "metadata": {},
     "output_type": "display_data"
    },
    {
     "name": "stderr",
     "output_type": "stream",
     "text": [
      "WARNING:root:Only 0.115% proposal samples are\n",
      "                    accepted. It may take a long time to collect the remaining\n",
      "                    3986 samples. Consider interrupting (Ctrl-C) and switching to\n",
      "                    `build_posterior(..., sample_with='mcmc')`.\n"
     ]
    },
    {
     "name": "stdout",
     "output_type": "stream",
     "text": [
      "\n",
      "Constructing confidence regions ...\n"
     ]
    },
    {
     "name": "stderr",
     "output_type": "stream",
     "text": [
      "\n",
      "\n",
      "\u001b[A\u001b[A\n",
      "\n",
      "Evaluating posterior for 1 points ...: 100%|██████████| 1/1 [00:06<00:00,  6.29s/it]\n",
      "\n",
      "\u001b[A"
     ]
    },
    {
     "data": {
      "application/vnd.jupyter.widget-view+json": {
       "model_id": "933cc9aab1b44ac6873c735b964bf186",
       "version_major": 2,
       "version_minor": 0
      },
      "text/plain": [
       "Drawing 5000 posterior samples:   0%|          | 0/5000 [00:00<?, ?it/s]"
      ]
     },
     "metadata": {},
     "output_type": "display_data"
    },
    {
     "name": "stdout",
     "output_type": "stream",
     "text": [
      "\n",
      "Constructing confidence regions ...\n"
     ]
    },
    {
     "name": "stderr",
     "output_type": "stream",
     "text": [
      "\n",
      "\n",
      "\u001b[A\u001b[A\n",
      "\n",
      "Evaluating posterior for 1 points ...: 100%|██████████| 1/1 [00:00<00:00,  2.32it/s]\n",
      "\n",
      "\u001b[A"
     ]
    },
    {
     "data": {
      "application/vnd.jupyter.widget-view+json": {
       "model_id": "fdb40230596b4c4f810fc2d5e670a56b",
       "version_major": 2,
       "version_minor": 0
      },
      "text/plain": [
       "Drawing 5000 posterior samples:   0%|          | 0/5000 [00:00<?, ?it/s]"
      ]
     },
     "metadata": {},
     "output_type": "display_data"
    },
    {
     "name": "stdout",
     "output_type": "stream",
     "text": [
      "\n",
      "Constructing confidence regions ...\n"
     ]
    },
    {
     "name": "stderr",
     "output_type": "stream",
     "text": [
      "\n",
      "\n",
      "\u001b[A\u001b[A\n",
      "\n",
      "Evaluating posterior for 1 points ...: 100%|██████████| 1/1 [00:00<00:00,  2.32it/s]\n",
      "\n",
      "\u001b[A"
     ]
    },
    {
     "data": {
      "application/vnd.jupyter.widget-view+json": {
       "model_id": "301300e9bab84dcc8c216c790c8892b2",
       "version_major": 2,
       "version_minor": 0
      },
      "text/plain": [
       "Drawing 5000 posterior samples:   0%|          | 0/5000 [00:00<?, ?it/s]"
      ]
     },
     "metadata": {},
     "output_type": "display_data"
    },
    {
     "name": "stderr",
     "output_type": "stream",
     "text": [
      "WARNING:root:Only 0.127% proposal samples are\n",
      "                    accepted. It may take a long time to collect the remaining\n",
      "                    3993 samples. Consider interrupting (Ctrl-C) and switching to\n",
      "                    `build_posterior(..., sample_with='mcmc')`.\n"
     ]
    },
    {
     "name": "stdout",
     "output_type": "stream",
     "text": [
      "\n",
      "Constructing confidence regions ...\n"
     ]
    },
    {
     "name": "stderr",
     "output_type": "stream",
     "text": [
      "\n",
      "\n",
      "\u001b[A\u001b[A\n",
      "\n",
      "Evaluating posterior for 1 points ...: 100%|██████████| 1/1 [00:00<00:00,  1.60it/s]\n",
      "\n",
      "\u001b[A"
     ]
    },
    {
     "data": {
      "application/vnd.jupyter.widget-view+json": {
       "model_id": "51eed0a1a174423ca2523dda4eb7cf88",
       "version_major": 2,
       "version_minor": 0
      },
      "text/plain": [
       "Drawing 5000 posterior samples:   0%|          | 0/5000 [00:00<?, ?it/s]"
      ]
     },
     "metadata": {},
     "output_type": "display_data"
    },
    {
     "name": "stdout",
     "output_type": "stream",
     "text": [
      "\n",
      "Constructing confidence regions ...\n"
     ]
    },
    {
     "name": "stderr",
     "output_type": "stream",
     "text": [
      "\n",
      "\n",
      "\u001b[A\u001b[A\n",
      "\n",
      "Evaluating posterior for 1 points ...: 100%|██████████| 1/1 [00:00<00:00,  2.32it/s]\n",
      "\n",
      "\u001b[A"
     ]
    },
    {
     "data": {
      "application/vnd.jupyter.widget-view+json": {
       "model_id": "601127f00e35496298b31f1578b3d18f",
       "version_major": 2,
       "version_minor": 0
      },
      "text/plain": [
       "Drawing 5000 posterior samples:   0%|          | 0/5000 [00:00<?, ?it/s]"
      ]
     },
     "metadata": {},
     "output_type": "display_data"
    },
    {
     "name": "stdout",
     "output_type": "stream",
     "text": [
      "\n",
      "Constructing confidence regions ...\n"
     ]
    },
    {
     "name": "stderr",
     "output_type": "stream",
     "text": [
      "\n",
      "\n",
      "\u001b[A\u001b[A\n",
      "\n",
      "Evaluating posterior for 1 points ...: 100%|██████████| 1/1 [00:00<00:00,  1.64it/s]\n",
      "\n",
      "\u001b[A"
     ]
    },
    {
     "data": {
      "application/vnd.jupyter.widget-view+json": {
       "model_id": "7f602ca1c8ab425c9b614bd3d44d5766",
       "version_major": 2,
       "version_minor": 0
      },
      "text/plain": [
       "Drawing 5000 posterior samples:   0%|          | 0/5000 [00:00<?, ?it/s]"
      ]
     },
     "metadata": {},
     "output_type": "display_data"
    },
    {
     "name": "stderr",
     "output_type": "stream",
     "text": [
      "WARNING:root:Only 0.166% proposal samples are\n",
      "                    accepted. It may take a long time to collect the remaining\n",
      "                    3996 samples. Consider interrupting (Ctrl-C) and switching to\n",
      "                    `build_posterior(..., sample_with='mcmc')`.\n"
     ]
    },
    {
     "name": "stdout",
     "output_type": "stream",
     "text": [
      "\n",
      "Constructing confidence regions ...\n"
     ]
    },
    {
     "name": "stderr",
     "output_type": "stream",
     "text": [
      "\n",
      "\n",
      "\u001b[A\u001b[A\n",
      "\n",
      "Evaluating posterior for 1 points ...: 100%|██████████| 1/1 [00:00<00:00,  2.32it/s]\n",
      "\n",
      "\u001b[A"
     ]
    },
    {
     "data": {
      "application/vnd.jupyter.widget-view+json": {
       "model_id": "ab62df15daff4b30a30fcfc4be8e687c",
       "version_major": 2,
       "version_minor": 0
      },
      "text/plain": [
       "Drawing 5000 posterior samples:   0%|          | 0/5000 [00:00<?, ?it/s]"
      ]
     },
     "metadata": {},
     "output_type": "display_data"
    },
    {
     "name": "stdout",
     "output_type": "stream",
     "text": [
      "\n",
      "Constructing confidence regions ...\n"
     ]
    },
    {
     "name": "stderr",
     "output_type": "stream",
     "text": [
      "\n",
      "\n",
      "\u001b[A\u001b[A\n",
      "\n",
      "Evaluating posterior for 1 points ...: 100%|██████████| 1/1 [00:08<00:00,  8.96s/it]\n",
      "\n",
      "\u001b[A"
     ]
    },
    {
     "data": {
      "application/vnd.jupyter.widget-view+json": {
       "model_id": "fcf844ca19c4472e9fc4c55d062e63be",
       "version_major": 2,
       "version_minor": 0
      },
      "text/plain": [
       "Drawing 5000 posterior samples:   0%|          | 0/5000 [00:00<?, ?it/s]"
      ]
     },
     "metadata": {},
     "output_type": "display_data"
    },
    {
     "name": "stdout",
     "output_type": "stream",
     "text": [
      "\n",
      "Constructing confidence regions ...\n"
     ]
    },
    {
     "name": "stderr",
     "output_type": "stream",
     "text": [
      "\n",
      "\n",
      "\u001b[A\u001b[A\n",
      "\n",
      "Evaluating posterior for 1 points ...: 100%|██████████| 1/1 [00:00<00:00,  1.67it/s]\n",
      "\n",
      "\u001b[A"
     ]
    },
    {
     "data": {
      "application/vnd.jupyter.widget-view+json": {
       "model_id": "ccb5be05b8a344fabb47aa4616ab82c9",
       "version_major": 2,
       "version_minor": 0
      },
      "text/plain": [
       "Drawing 5000 posterior samples:   0%|          | 0/5000 [00:00<?, ?it/s]"
      ]
     },
     "metadata": {},
     "output_type": "display_data"
    },
    {
     "name": "stderr",
     "output_type": "stream",
     "text": [
      "WARNING:root:Only 0.225% proposal samples are\n",
      "                    accepted. It may take a long time to collect the remaining\n",
      "                    3998 samples. Consider interrupting (Ctrl-C) and switching to\n",
      "                    `build_posterior(..., sample_with='mcmc')`.\n"
     ]
    },
    {
     "name": "stdout",
     "output_type": "stream",
     "text": [
      "\n",
      "Constructing confidence regions ...\n"
     ]
    },
    {
     "name": "stderr",
     "output_type": "stream",
     "text": [
      "\n",
      "\n",
      "\u001b[A\u001b[A\n",
      "\n",
      "Evaluating posterior for 1 points ...: 100%|██████████| 1/1 [00:00<00:00,  1.69it/s]\n",
      "\n",
      "\u001b[A"
     ]
    },
    {
     "data": {
      "application/vnd.jupyter.widget-view+json": {
       "model_id": "f04034cc85cc433eb8665bbe10662284",
       "version_major": 2,
       "version_minor": 0
      },
      "text/plain": [
       "Drawing 5000 posterior samples:   0%|          | 0/5000 [00:00<?, ?it/s]"
      ]
     },
     "metadata": {},
     "output_type": "display_data"
    },
    {
     "name": "stdout",
     "output_type": "stream",
     "text": [
      "\n",
      "Constructing confidence regions ...\n"
     ]
    },
    {
     "name": "stderr",
     "output_type": "stream",
     "text": [
      "\n",
      "\n",
      "\u001b[A\u001b[A\n",
      "\n",
      "Evaluating posterior for 1 points ...: 100%|██████████| 1/1 [00:00<00:00,  1.66it/s]\n",
      "\n",
      "\u001b[A"
     ]
    },
    {
     "data": {
      "application/vnd.jupyter.widget-view+json": {
       "model_id": "1fa2ea17178c41dcb3b7744668437b0b",
       "version_major": 2,
       "version_minor": 0
      },
      "text/plain": [
       "Drawing 5000 posterior samples:   0%|          | 0/5000 [00:00<?, ?it/s]"
      ]
     },
     "metadata": {},
     "output_type": "display_data"
    },
    {
     "name": "stdout",
     "output_type": "stream",
     "text": [
      "\n",
      "Constructing confidence regions ...\n"
     ]
    },
    {
     "name": "stderr",
     "output_type": "stream",
     "text": [
      "\n",
      "\n",
      "\u001b[A\u001b[A\n",
      "\n",
      "Evaluating posterior for 1 points ...: 100%|██████████| 1/1 [00:00<00:00,  1.68it/s]\n",
      "\n",
      "\u001b[A"
     ]
    },
    {
     "data": {
      "application/vnd.jupyter.widget-view+json": {
       "model_id": "45c6324bcdfe4837894ba9ed46ecf13f",
       "version_major": 2,
       "version_minor": 0
      },
      "text/plain": [
       "Drawing 5000 posterior samples:   0%|          | 0/5000 [00:00<?, ?it/s]"
      ]
     },
     "metadata": {},
     "output_type": "display_data"
    },
    {
     "name": "stderr",
     "output_type": "stream",
     "text": [
      "WARNING:root:Only 0.347% proposal samples are\n",
      "                    accepted. It may take a long time to collect the remaining\n",
      "                    3975 samples. Consider interrupting (Ctrl-C) and switching to\n",
      "                    `build_posterior(..., sample_with='mcmc')`.\n"
     ]
    },
    {
     "name": "stdout",
     "output_type": "stream",
     "text": [
      "\n",
      "Constructing confidence regions ...\n"
     ]
    },
    {
     "name": "stderr",
     "output_type": "stream",
     "text": [
      "\n",
      "\n",
      "\u001b[A\u001b[A\n",
      "\n",
      "Evaluating posterior for 1 points ...: 100%|██████████| 1/1 [00:00<00:00,  2.21it/s]\n",
      "\n",
      "\u001b[A"
     ]
    },
    {
     "data": {
      "application/vnd.jupyter.widget-view+json": {
       "model_id": "319a9918b13a46a59790b7162b180bfd",
       "version_major": 2,
       "version_minor": 0
      },
      "text/plain": [
       "Drawing 5000 posterior samples:   0%|          | 0/5000 [00:00<?, ?it/s]"
      ]
     },
     "metadata": {},
     "output_type": "display_data"
    },
    {
     "name": "stdout",
     "output_type": "stream",
     "text": [
      "\n",
      "Constructing confidence regions ...\n"
     ]
    },
    {
     "name": "stderr",
     "output_type": "stream",
     "text": [
      "\n",
      "\n",
      "\u001b[A\u001b[A\n",
      "\n",
      "Evaluating posterior for 1 points ...: 100%|██████████| 1/1 [00:00<00:00,  2.27it/s]\n",
      "\n",
      "\u001b[A"
     ]
    },
    {
     "data": {
      "application/vnd.jupyter.widget-view+json": {
       "model_id": "0a63dfa9a2964e1097c9414910f74921",
       "version_major": 2,
       "version_minor": 0
      },
      "text/plain": [
       "Drawing 5000 posterior samples:   0%|          | 0/5000 [00:00<?, ?it/s]"
      ]
     },
     "metadata": {},
     "output_type": "display_data"
    },
    {
     "name": "stdout",
     "output_type": "stream",
     "text": [
      "\n",
      "Constructing confidence regions ...\n"
     ]
    },
    {
     "name": "stderr",
     "output_type": "stream",
     "text": [
      "\n",
      "\n",
      "\u001b[A\u001b[A\n",
      "\n",
      "Evaluating posterior for 1 points ...: 100%|██████████| 1/1 [00:00<00:00,  1.63it/s]\n",
      "\n",
      "\u001b[A"
     ]
    },
    {
     "data": {
      "application/vnd.jupyter.widget-view+json": {
       "model_id": "b41312901db348978d912ac69c7bc093",
       "version_major": 2,
       "version_minor": 0
      },
      "text/plain": [
       "Drawing 5000 posterior samples:   0%|          | 0/5000 [00:00<?, ?it/s]"
      ]
     },
     "metadata": {},
     "output_type": "display_data"
    },
    {
     "name": "stdout",
     "output_type": "stream",
     "text": [
      "\n",
      "Constructing confidence regions ...\n"
     ]
    },
    {
     "name": "stderr",
     "output_type": "stream",
     "text": [
      "\n",
      "\n",
      "\u001b[A\u001b[A\n",
      "\n",
      "Evaluating posterior for 1 points ...: 100%|██████████| 1/1 [00:00<00:00,  2.27it/s]\n",
      "\n",
      "\u001b[A"
     ]
    },
    {
     "data": {
      "application/vnd.jupyter.widget-view+json": {
       "model_id": "9aa7406c61a348a48477cc7f287f4fba",
       "version_major": 2,
       "version_minor": 0
      },
      "text/plain": [
       "Drawing 5000 posterior samples:   0%|          | 0/5000 [00:00<?, ?it/s]"
      ]
     },
     "metadata": {},
     "output_type": "display_data"
    },
    {
     "name": "stdout",
     "output_type": "stream",
     "text": [
      "\n",
      "Constructing confidence regions ...\n"
     ]
    },
    {
     "name": "stderr",
     "output_type": "stream",
     "text": [
      "\n",
      "\n",
      "\u001b[A\u001b[A\n",
      "\n",
      "Evaluating posterior for 1 points ...: 100%|██████████| 1/1 [00:00<00:00,  1.60it/s]\n",
      "\n",
      "\u001b[A"
     ]
    },
    {
     "data": {
      "application/vnd.jupyter.widget-view+json": {
       "model_id": "063ad550a37a481ea6b664c191586f5a",
       "version_major": 2,
       "version_minor": 0
      },
      "text/plain": [
       "Drawing 5000 posterior samples:   0%|          | 0/5000 [00:00<?, ?it/s]"
      ]
     },
     "metadata": {},
     "output_type": "display_data"
    },
    {
     "name": "stdout",
     "output_type": "stream",
     "text": [
      "\n",
      "Constructing confidence regions ...\n"
     ]
    },
    {
     "name": "stderr",
     "output_type": "stream",
     "text": [
      "\n",
      "\n",
      "\u001b[A\u001b[A\n",
      "\n",
      "Evaluating posterior for 1 points ...: 100%|██████████| 1/1 [00:00<00:00,  2.26it/s]\n",
      "\n",
      "\u001b[A"
     ]
    },
    {
     "data": {
      "application/vnd.jupyter.widget-view+json": {
       "model_id": "93e94b10d37d41738b5834643a698160",
       "version_major": 2,
       "version_minor": 0
      },
      "text/plain": [
       "Drawing 5000 posterior samples:   0%|          | 0/5000 [00:00<?, ?it/s]"
      ]
     },
     "metadata": {},
     "output_type": "display_data"
    },
    {
     "name": "stdout",
     "output_type": "stream",
     "text": [
      "\n",
      "Constructing confidence regions ...\n"
     ]
    },
    {
     "name": "stderr",
     "output_type": "stream",
     "text": [
      "\n",
      "\n",
      "\u001b[A\u001b[A\n",
      "\n",
      "Evaluating posterior for 1 points ...: 100%|██████████| 1/1 [00:00<00:00,  1.72it/s]\n",
      "\n",
      "\u001b[A"
     ]
    },
    {
     "data": {
      "application/vnd.jupyter.widget-view+json": {
       "model_id": "01be0a027fce46478c71ce25f329d3c7",
       "version_major": 2,
       "version_minor": 0
      },
      "text/plain": [
       "Drawing 5000 posterior samples:   0%|          | 0/5000 [00:00<?, ?it/s]"
      ]
     },
     "metadata": {},
     "output_type": "display_data"
    },
    {
     "name": "stdout",
     "output_type": "stream",
     "text": [
      "\n",
      "Constructing confidence regions ...\n"
     ]
    },
    {
     "name": "stderr",
     "output_type": "stream",
     "text": [
      "\n",
      "\n",
      "\u001b[A\u001b[A\n",
      "\n",
      "Evaluating posterior for 1 points ...: 100%|██████████| 1/1 [00:00<00:00,  1.64it/s]\n",
      "\n",
      "\u001b[A"
     ]
    },
    {
     "data": {
      "application/vnd.jupyter.widget-view+json": {
       "model_id": "b7444198fd124c2a82a2841dafab9dfd",
       "version_major": 2,
       "version_minor": 0
      },
      "text/plain": [
       "Drawing 5000 posterior samples:   0%|          | 0/5000 [00:00<?, ?it/s]"
      ]
     },
     "metadata": {},
     "output_type": "display_data"
    },
    {
     "name": "stdout",
     "output_type": "stream",
     "text": [
      "\n",
      "Constructing confidence regions ...\n"
     ]
    },
    {
     "name": "stderr",
     "output_type": "stream",
     "text": [
      "\n",
      "\n",
      "\u001b[A\u001b[A\n",
      "\n",
      "Evaluating posterior for 1 points ...: 100%|██████████| 1/1 [00:00<00:00,  1.69it/s]\n",
      "\n",
      "\u001b[A"
     ]
    },
    {
     "data": {
      "application/vnd.jupyter.widget-view+json": {
       "model_id": "dac23742e16f4f188e60fc706341e2a2",
       "version_major": 2,
       "version_minor": 0
      },
      "text/plain": [
       "Drawing 5000 posterior samples:   0%|          | 0/5000 [00:00<?, ?it/s]"
      ]
     },
     "metadata": {},
     "output_type": "display_data"
    },
    {
     "name": "stdout",
     "output_type": "stream",
     "text": [
      "\n",
      "Constructing confidence regions ...\n"
     ]
    },
    {
     "name": "stderr",
     "output_type": "stream",
     "text": [
      "\n",
      "\n",
      "\u001b[A\u001b[A\n",
      "\n",
      "Evaluating posterior for 1 points ...: 100%|██████████| 1/1 [00:00<00:00,  1.69it/s]\n",
      "\n",
      "\u001b[A"
     ]
    },
    {
     "data": {
      "application/vnd.jupyter.widget-view+json": {
       "model_id": "9ae517d9a13244fd99f45f564f0dc45e",
       "version_major": 2,
       "version_minor": 0
      },
      "text/plain": [
       "Drawing 5000 posterior samples:   0%|          | 0/5000 [00:00<?, ?it/s]"
      ]
     },
     "metadata": {},
     "output_type": "display_data"
    },
    {
     "name": "stdout",
     "output_type": "stream",
     "text": [
      "\n",
      "Constructing confidence regions ...\n"
     ]
    },
    {
     "name": "stderr",
     "output_type": "stream",
     "text": [
      "\n",
      "\n",
      "\u001b[A\u001b[A\n",
      "\n",
      "Evaluating posterior for 1 points ...: 100%|██████████| 1/1 [00:00<00:00,  1.64it/s]\n",
      "\n",
      "\u001b[A"
     ]
    },
    {
     "data": {
      "application/vnd.jupyter.widget-view+json": {
       "model_id": "63b03ed51032491489ec6bf6423d49fb",
       "version_major": 2,
       "version_minor": 0
      },
      "text/plain": [
       "Drawing 5000 posterior samples:   0%|          | 0/5000 [00:00<?, ?it/s]"
      ]
     },
     "metadata": {},
     "output_type": "display_data"
    },
    {
     "name": "stdout",
     "output_type": "stream",
     "text": [
      "\n",
      "Constructing confidence regions ...\n"
     ]
    },
    {
     "name": "stderr",
     "output_type": "stream",
     "text": [
      "\n",
      "\n",
      "\u001b[A\u001b[A\n",
      "\n",
      "Evaluating posterior for 1 points ...: 100%|██████████| 1/1 [00:00<00:00,  2.28it/s]\n",
      "\n",
      "\u001b[A"
     ]
    },
    {
     "data": {
      "application/vnd.jupyter.widget-view+json": {
       "model_id": "dc4c61675aef448195249a9d22eb079a",
       "version_major": 2,
       "version_minor": 0
      },
      "text/plain": [
       "Drawing 5000 posterior samples:   0%|          | 0/5000 [00:00<?, ?it/s]"
      ]
     },
     "metadata": {},
     "output_type": "display_data"
    },
    {
     "name": "stdout",
     "output_type": "stream",
     "text": [
      "\n",
      "Constructing confidence regions ...\n"
     ]
    },
    {
     "name": "stderr",
     "output_type": "stream",
     "text": [
      "\n",
      "\n",
      "\u001b[A\u001b[A\n",
      "\n",
      "Evaluating posterior for 1 points ...: 100%|██████████| 1/1 [00:00<00:00,  2.25it/s]\n",
      "\n",
      "\u001b[A"
     ]
    },
    {
     "data": {
      "application/vnd.jupyter.widget-view+json": {
       "model_id": "26a1a49437214742a5a5dd090a5f309d",
       "version_major": 2,
       "version_minor": 0
      },
      "text/plain": [
       "Drawing 5000 posterior samples:   0%|          | 0/5000 [00:00<?, ?it/s]"
      ]
     },
     "metadata": {},
     "output_type": "display_data"
    },
    {
     "name": "stdout",
     "output_type": "stream",
     "text": [
      "\n",
      "Constructing confidence regions ...\n"
     ]
    },
    {
     "name": "stderr",
     "output_type": "stream",
     "text": [
      "\n",
      "\n",
      "\u001b[A\u001b[A\n",
      "\n",
      "Evaluating posterior for 1 points ...: 100%|██████████| 1/1 [00:00<00:00,  1.60it/s]\n",
      "\n",
      "\u001b[A"
     ]
    },
    {
     "data": {
      "application/vnd.jupyter.widget-view+json": {
       "model_id": "a014b66a515f4ab694cf33909b1e3ede",
       "version_major": 2,
       "version_minor": 0
      },
      "text/plain": [
       "Drawing 5000 posterior samples:   0%|          | 0/5000 [00:00<?, ?it/s]"
      ]
     },
     "metadata": {},
     "output_type": "display_data"
    },
    {
     "name": "stdout",
     "output_type": "stream",
     "text": [
      "\n",
      "Constructing confidence regions ...\n"
     ]
    },
    {
     "name": "stderr",
     "output_type": "stream",
     "text": [
      "\n",
      "\n",
      "\u001b[A\u001b[A\n",
      "\n",
      "Evaluating posterior for 1 points ...: 100%|██████████| 1/1 [00:00<00:00,  2.15it/s]\n",
      "\n",
      "\u001b[A"
     ]
    },
    {
     "data": {
      "application/vnd.jupyter.widget-view+json": {
       "model_id": "b529bcad791b4369b9da3132b4f7228a",
       "version_major": 2,
       "version_minor": 0
      },
      "text/plain": [
       "Drawing 5000 posterior samples:   0%|          | 0/5000 [00:00<?, ?it/s]"
      ]
     },
     "metadata": {},
     "output_type": "display_data"
    },
    {
     "name": "stdout",
     "output_type": "stream",
     "text": [
      "\n",
      "Constructing confidence regions ...\n"
     ]
    },
    {
     "name": "stderr",
     "output_type": "stream",
     "text": [
      "\n",
      "\n",
      "\u001b[A\u001b[A\n",
      "\n",
      "Evaluating posterior for 1 points ...: 100%|██████████| 1/1 [00:00<00:00,  1.59it/s]\n",
      "\n",
      "\u001b[A"
     ]
    },
    {
     "data": {
      "application/vnd.jupyter.widget-view+json": {
       "model_id": "dec0b06d48e7470492d5c51af7fe9939",
       "version_major": 2,
       "version_minor": 0
      },
      "text/plain": [
       "Drawing 5000 posterior samples:   0%|          | 0/5000 [00:00<?, ?it/s]"
      ]
     },
     "metadata": {},
     "output_type": "display_data"
    },
    {
     "name": "stdout",
     "output_type": "stream",
     "text": [
      "\n",
      "Constructing confidence regions ...\n"
     ]
    },
    {
     "name": "stderr",
     "output_type": "stream",
     "text": [
      "\n",
      "\n",
      "\u001b[A\u001b[A\n",
      "\n",
      "Evaluating posterior for 1 points ...: 100%|██████████| 1/1 [00:00<00:00,  2.25it/s]\n",
      "\n",
      "\u001b[A"
     ]
    },
    {
     "data": {
      "application/vnd.jupyter.widget-view+json": {
       "model_id": "00eeb1d8d73e4bd2a6254abc3e5fde54",
       "version_major": 2,
       "version_minor": 0
      },
      "text/plain": [
       "Drawing 5000 posterior samples:   0%|          | 0/5000 [00:00<?, ?it/s]"
      ]
     },
     "metadata": {},
     "output_type": "display_data"
    },
    {
     "name": "stdout",
     "output_type": "stream",
     "text": [
      "\n",
      "Constructing confidence regions ...\n"
     ]
    },
    {
     "name": "stderr",
     "output_type": "stream",
     "text": [
      "\n",
      "\n",
      "\u001b[A\u001b[A\n",
      "\n",
      "Evaluating posterior for 1 points ...: 100%|██████████| 1/1 [00:00<00:00,  1.66it/s]\n",
      "\n",
      "\u001b[A"
     ]
    },
    {
     "data": {
      "application/vnd.jupyter.widget-view+json": {
       "model_id": "678673bc1e5a4d318c6dde6bfaa80bcb",
       "version_major": 2,
       "version_minor": 0
      },
      "text/plain": [
       "Drawing 5000 posterior samples:   0%|          | 0/5000 [00:00<?, ?it/s]"
      ]
     },
     "metadata": {},
     "output_type": "display_data"
    },
    {
     "name": "stdout",
     "output_type": "stream",
     "text": [
      "\n",
      "Constructing confidence regions ...\n"
     ]
    },
    {
     "name": "stderr",
     "output_type": "stream",
     "text": [
      "\n",
      "\n",
      "\u001b[A\u001b[A\n",
      "\n",
      "Evaluating posterior for 1 points ...: 100%|██████████| 1/1 [00:00<00:00,  1.63it/s]\n",
      "\n",
      "\u001b[A"
     ]
    },
    {
     "data": {
      "application/vnd.jupyter.widget-view+json": {
       "model_id": "42146aa54bda475bb52759adcb1bb666",
       "version_major": 2,
       "version_minor": 0
      },
      "text/plain": [
       "Drawing 5000 posterior samples:   0%|          | 0/5000 [00:00<?, ?it/s]"
      ]
     },
     "metadata": {},
     "output_type": "display_data"
    },
    {
     "name": "stdout",
     "output_type": "stream",
     "text": [
      "\n",
      "Constructing confidence regions ...\n"
     ]
    },
    {
     "name": "stderr",
     "output_type": "stream",
     "text": [
      "\n",
      "\n",
      "\u001b[A\u001b[A\n",
      "\n",
      "Evaluating posterior for 1 points ...: 100%|██████████| 1/1 [00:00<00:00,  1.66it/s]\n",
      "\n",
      "\u001b[A"
     ]
    },
    {
     "data": {
      "application/vnd.jupyter.widget-view+json": {
       "model_id": "6843e6a53d824a2aadc4eeb9e8983d2c",
       "version_major": 2,
       "version_minor": 0
      },
      "text/plain": [
       "Drawing 5000 posterior samples:   0%|          | 0/5000 [00:00<?, ?it/s]"
      ]
     },
     "metadata": {},
     "output_type": "display_data"
    },
    {
     "name": "stdout",
     "output_type": "stream",
     "text": [
      "\n",
      "Constructing confidence regions ...\n"
     ]
    },
    {
     "name": "stderr",
     "output_type": "stream",
     "text": [
      "\n",
      "\n",
      "\u001b[A\u001b[A\n",
      "\n",
      "Evaluating posterior for 1 points ...: 100%|██████████| 1/1 [00:00<00:00,  1.63it/s]\n",
      "\n",
      "\u001b[A"
     ]
    },
    {
     "data": {
      "application/vnd.jupyter.widget-view+json": {
       "model_id": "22b271b0eb594722b3524c492bfbe6ac",
       "version_major": 2,
       "version_minor": 0
      },
      "text/plain": [
       "Drawing 5000 posterior samples:   0%|          | 0/5000 [00:00<?, ?it/s]"
      ]
     },
     "metadata": {},
     "output_type": "display_data"
    },
    {
     "name": "stdout",
     "output_type": "stream",
     "text": [
      "\n",
      "Constructing confidence regions ...\n"
     ]
    },
    {
     "name": "stderr",
     "output_type": "stream",
     "text": [
      "\n",
      "\n",
      "\u001b[A\u001b[A\n",
      "\n",
      "Evaluating posterior for 1 points ...: 100%|██████████| 1/1 [00:00<00:00,  1.66it/s]\n",
      "\n",
      "\u001b[A"
     ]
    },
    {
     "data": {
      "application/vnd.jupyter.widget-view+json": {
       "model_id": "7dbb8e83af7f4ede933b3b5bb5c9b631",
       "version_major": 2,
       "version_minor": 0
      },
      "text/plain": [
       "Drawing 5000 posterior samples:   0%|          | 0/5000 [00:00<?, ?it/s]"
      ]
     },
     "metadata": {},
     "output_type": "display_data"
    },
    {
     "name": "stdout",
     "output_type": "stream",
     "text": [
      "\n",
      "Constructing confidence regions ...\n"
     ]
    },
    {
     "name": "stderr",
     "output_type": "stream",
     "text": [
      "\n",
      "\n",
      "\u001b[A\u001b[A\n",
      "\n",
      "Evaluating posterior for 1 points ...: 100%|██████████| 1/1 [00:00<00:00,  2.22it/s]\n",
      "\n",
      "\u001b[A"
     ]
    },
    {
     "data": {
      "application/vnd.jupyter.widget-view+json": {
       "model_id": "00152e27d60342bb9eba05e86a5278f3",
       "version_major": 2,
       "version_minor": 0
      },
      "text/plain": [
       "Drawing 5000 posterior samples:   0%|          | 0/5000 [00:00<?, ?it/s]"
      ]
     },
     "metadata": {},
     "output_type": "display_data"
    },
    {
     "name": "stdout",
     "output_type": "stream",
     "text": [
      "\n",
      "Constructing confidence regions ...\n"
     ]
    },
    {
     "name": "stderr",
     "output_type": "stream",
     "text": [
      "\n",
      "\n",
      "\u001b[A\u001b[A\n",
      "\n",
      "Evaluating posterior for 1 points ...: 100%|██████████| 1/1 [00:00<00:00,  2.21it/s]\n",
      "\n",
      "\u001b[A"
     ]
    },
    {
     "data": {
      "application/vnd.jupyter.widget-view+json": {
       "model_id": "ff26baf26d1646d4a521f4260fa01856",
       "version_major": 2,
       "version_minor": 0
      },
      "text/plain": [
       "Drawing 5000 posterior samples:   0%|          | 0/5000 [00:00<?, ?it/s]"
      ]
     },
     "metadata": {},
     "output_type": "display_data"
    },
    {
     "name": "stdout",
     "output_type": "stream",
     "text": [
      "\n",
      "Constructing confidence regions ...\n"
     ]
    },
    {
     "name": "stderr",
     "output_type": "stream",
     "text": [
      "\n",
      "\n",
      "\u001b[A\u001b[A\n",
      "\n",
      "Evaluating posterior for 1 points ...: 100%|██████████| 1/1 [00:00<00:00,  1.58it/s]\n",
      "\n",
      "\u001b[A"
     ]
    },
    {
     "data": {
      "application/vnd.jupyter.widget-view+json": {
       "model_id": "41a0cb41ffb5491fb29abb8c55b9ffc4",
       "version_major": 2,
       "version_minor": 0
      },
      "text/plain": [
       "Drawing 5000 posterior samples:   0%|          | 0/5000 [00:00<?, ?it/s]"
      ]
     },
     "metadata": {},
     "output_type": "display_data"
    },
    {
     "name": "stdout",
     "output_type": "stream",
     "text": [
      "\n",
      "Constructing confidence regions ...\n"
     ]
    },
    {
     "name": "stderr",
     "output_type": "stream",
     "text": [
      "\n",
      "\n",
      "\u001b[A\u001b[A\n",
      "\n",
      "Evaluating posterior for 1 points ...: 100%|██████████| 1/1 [00:00<00:00,  2.32it/s]\n",
      "\n",
      "\u001b[A"
     ]
    },
    {
     "data": {
      "application/vnd.jupyter.widget-view+json": {
       "model_id": "08cafa15ab594620b868ed9d720c9998",
       "version_major": 2,
       "version_minor": 0
      },
      "text/plain": [
       "Drawing 5000 posterior samples:   0%|          | 0/5000 [00:00<?, ?it/s]"
      ]
     },
     "metadata": {},
     "output_type": "display_data"
    },
    {
     "name": "stdout",
     "output_type": "stream",
     "text": [
      "\n",
      "Constructing confidence regions ...\n"
     ]
    },
    {
     "name": "stderr",
     "output_type": "stream",
     "text": [
      "\n",
      "\n",
      "\u001b[A\u001b[A\n",
      "\n",
      "Evaluating posterior for 1 points ...: 100%|██████████| 1/1 [00:00<00:00,  1.58it/s]\n",
      "\n",
      "\u001b[A"
     ]
    },
    {
     "data": {
      "application/vnd.jupyter.widget-view+json": {
       "model_id": "783bde66ec5044f5ad958d914d028fe8",
       "version_major": 2,
       "version_minor": 0
      },
      "text/plain": [
       "Drawing 5000 posterior samples:   0%|          | 0/5000 [00:00<?, ?it/s]"
      ]
     },
     "metadata": {},
     "output_type": "display_data"
    },
    {
     "name": "stdout",
     "output_type": "stream",
     "text": [
      "\n",
      "Constructing confidence regions ...\n"
     ]
    },
    {
     "name": "stderr",
     "output_type": "stream",
     "text": [
      "\n",
      "\n",
      "\u001b[A\u001b[A\n",
      "\n",
      "Evaluating posterior for 1 points ...: 100%|██████████| 1/1 [00:00<00:00,  2.27it/s]\n",
      "\n",
      "\u001b[A"
     ]
    },
    {
     "data": {
      "application/vnd.jupyter.widget-view+json": {
       "model_id": "182dce1efb374382884da28a82d11578",
       "version_major": 2,
       "version_minor": 0
      },
      "text/plain": [
       "Drawing 5000 posterior samples:   0%|          | 0/5000 [00:00<?, ?it/s]"
      ]
     },
     "metadata": {},
     "output_type": "display_data"
    },
    {
     "name": "stdout",
     "output_type": "stream",
     "text": [
      "\n",
      "Constructing confidence regions ...\n"
     ]
    },
    {
     "name": "stderr",
     "output_type": "stream",
     "text": [
      "\n",
      "\n",
      "\u001b[A\u001b[A\n",
      "\n",
      "Evaluating posterior for 1 points ...: 100%|██████████| 1/1 [00:00<00:00,  1.66it/s]\n",
      "\n",
      "\u001b[A"
     ]
    },
    {
     "data": {
      "application/vnd.jupyter.widget-view+json": {
       "model_id": "6a095474c8df427c84e2d6605095172e",
       "version_major": 2,
       "version_minor": 0
      },
      "text/plain": [
       "Drawing 5000 posterior samples:   0%|          | 0/5000 [00:00<?, ?it/s]"
      ]
     },
     "metadata": {},
     "output_type": "display_data"
    },
    {
     "name": "stdout",
     "output_type": "stream",
     "text": [
      "\n",
      "Constructing confidence regions ...\n"
     ]
    },
    {
     "name": "stderr",
     "output_type": "stream",
     "text": [
      "\n",
      "\n",
      "\u001b[A\u001b[A\n",
      "\n",
      "Evaluating posterior for 1 points ...: 100%|██████████| 1/1 [00:00<00:00,  1.68it/s]\n",
      "\n",
      "\u001b[A"
     ]
    },
    {
     "data": {
      "application/vnd.jupyter.widget-view+json": {
       "model_id": "7a05479680cc4e7ab9730cf8b448dbed",
       "version_major": 2,
       "version_minor": 0
      },
      "text/plain": [
       "Drawing 5000 posterior samples:   0%|          | 0/5000 [00:00<?, ?it/s]"
      ]
     },
     "metadata": {},
     "output_type": "display_data"
    },
    {
     "name": "stdout",
     "output_type": "stream",
     "text": [
      "\n",
      "Constructing confidence regions ...\n"
     ]
    },
    {
     "name": "stderr",
     "output_type": "stream",
     "text": [
      "\n",
      "\n",
      "\u001b[A\u001b[A\n",
      "\n",
      "Evaluating posterior for 1 points ...: 100%|██████████| 1/1 [00:00<00:00,  1.59it/s]\n",
      "\n",
      "\u001b[A"
     ]
    },
    {
     "data": {
      "application/vnd.jupyter.widget-view+json": {
       "model_id": "4271b42a762e47e1bb255be73af89883",
       "version_major": 2,
       "version_minor": 0
      },
      "text/plain": [
       "Drawing 5000 posterior samples:   0%|          | 0/5000 [00:00<?, ?it/s]"
      ]
     },
     "metadata": {},
     "output_type": "display_data"
    },
    {
     "name": "stdout",
     "output_type": "stream",
     "text": [
      "\n",
      "Constructing confidence regions ...\n"
     ]
    },
    {
     "name": "stderr",
     "output_type": "stream",
     "text": [
      "\n",
      "\n",
      "\u001b[A\u001b[A\n",
      "\n",
      "Evaluating posterior for 1 points ...: 100%|██████████| 1/1 [00:00<00:00,  1.69it/s]\n",
      "\n",
      "\u001b[A"
     ]
    },
    {
     "data": {
      "application/vnd.jupyter.widget-view+json": {
       "model_id": "573d6191f630452fb48cd69321ff4c0a",
       "version_major": 2,
       "version_minor": 0
      },
      "text/plain": [
       "Drawing 5000 posterior samples:   0%|          | 0/5000 [00:00<?, ?it/s]"
      ]
     },
     "metadata": {},
     "output_type": "display_data"
    },
    {
     "name": "stdout",
     "output_type": "stream",
     "text": [
      "\n",
      "Constructing confidence regions ...\n"
     ]
    },
    {
     "name": "stderr",
     "output_type": "stream",
     "text": [
      "\n",
      "\n",
      "\u001b[A\u001b[A\n",
      "\n",
      "Evaluating posterior for 1 points ...: 100%|██████████| 1/1 [00:00<00:00,  1.63it/s]\n",
      "\n",
      "\u001b[A"
     ]
    },
    {
     "data": {
      "application/vnd.jupyter.widget-view+json": {
       "model_id": "bd0b32ae5d5e4810878d72223c7da444",
       "version_major": 2,
       "version_minor": 0
      },
      "text/plain": [
       "Drawing 5000 posterior samples:   0%|          | 0/5000 [00:00<?, ?it/s]"
      ]
     },
     "metadata": {},
     "output_type": "display_data"
    },
    {
     "name": "stdout",
     "output_type": "stream",
     "text": [
      "\n",
      "Constructing confidence regions ...\n"
     ]
    },
    {
     "name": "stderr",
     "output_type": "stream",
     "text": [
      "\n",
      "\n",
      "\u001b[A\u001b[A\n",
      "\n",
      "Evaluating posterior for 1 points ...: 100%|██████████| 1/1 [00:00<00:00,  2.22it/s]\n",
      "\n",
      "\u001b[A"
     ]
    },
    {
     "data": {
      "application/vnd.jupyter.widget-view+json": {
       "model_id": "5817b28403ce4d53beda68ac75765eb8",
       "version_major": 2,
       "version_minor": 0
      },
      "text/plain": [
       "Drawing 5000 posterior samples:   0%|          | 0/5000 [00:00<?, ?it/s]"
      ]
     },
     "metadata": {},
     "output_type": "display_data"
    },
    {
     "name": "stdout",
     "output_type": "stream",
     "text": [
      "\n",
      "Constructing confidence regions ...\n"
     ]
    },
    {
     "name": "stderr",
     "output_type": "stream",
     "text": [
      "\n",
      "\n",
      "\u001b[A\u001b[A\n",
      "\n",
      "Evaluating posterior for 1 points ...: 100%|██████████| 1/1 [00:00<00:00,  2.26it/s]\n",
      "\n",
      "\u001b[A"
     ]
    },
    {
     "data": {
      "application/vnd.jupyter.widget-view+json": {
       "model_id": "fc879bfb4a0448659af2ce567defd53d",
       "version_major": 2,
       "version_minor": 0
      },
      "text/plain": [
       "Drawing 5000 posterior samples:   0%|          | 0/5000 [00:00<?, ?it/s]"
      ]
     },
     "metadata": {},
     "output_type": "display_data"
    },
    {
     "name": "stdout",
     "output_type": "stream",
     "text": [
      "\n",
      "Constructing confidence regions ...\n"
     ]
    },
    {
     "name": "stderr",
     "output_type": "stream",
     "text": [
      "\n",
      "\n",
      "\u001b[A\u001b[A\n",
      "\n",
      "Evaluating posterior for 1 points ...: 100%|██████████| 1/1 [00:00<00:00,  1.58it/s]\n",
      "\n",
      "\u001b[A"
     ]
    },
    {
     "data": {
      "application/vnd.jupyter.widget-view+json": {
       "model_id": "66eb740e8d43407dbc13644260e56504",
       "version_major": 2,
       "version_minor": 0
      },
      "text/plain": [
       "Drawing 5000 posterior samples:   0%|          | 0/5000 [00:00<?, ?it/s]"
      ]
     },
     "metadata": {},
     "output_type": "display_data"
    },
    {
     "name": "stdout",
     "output_type": "stream",
     "text": [
      "\n",
      "Constructing confidence regions ...\n"
     ]
    },
    {
     "name": "stderr",
     "output_type": "stream",
     "text": [
      "\n",
      "\n",
      "\u001b[A\u001b[A\n",
      "\n",
      "Evaluating posterior for 1 points ...: 100%|██████████| 1/1 [00:00<00:00,  2.21it/s]\n",
      "\n",
      "Computing indicators for 72 confidence sets: 100%|██████████| 72/72 [17:08<00:00, 14.28s/it]\n"
     ]
    }
   ],
   "source": [
    "confidence_sets, indicators = compute_lf2i_sampling_posterior(posterior, theta_p_d, x_p_d, CONFIDENCE_LEVEL, verbose=True, n_jobs=1)"
   ]
  },
  {
   "cell_type": "code",
   "execution_count": 32,
   "metadata": {},
   "outputs": [],
   "source": [
    "with open(f'{example_dir_for_setting}/confidence_sets.pkl', 'wb') as f:\n",
    "    pickle.dump(confidence_sets, f)"
   ]
  },
  {
   "cell_type": "code",
   "execution_count": 160,
   "metadata": {},
   "outputs": [],
   "source": [
    "# param_space_df = pd.DataFrame(theta_e_c, columns=LABELS).sample(50_000)\n",
    "# param_space_df['type'] = r'$\\Theta$'\n",
    "\n",
    "# for idx, (true_theta, region) in enumerate(zip(theta_p_d[:1], confidence_sets[:1])):\n",
    "#     region_df = pd.DataFrame(region, columns=LABELS)#.sample(min(50_000, len(region[1])))\n",
    "#     region_df['type'] = 'LF2I'\n",
    "#     truth_df = pd.DataFrame(true_theta.unsqueeze(0).numpy(), columns=LABELS)\n",
    "#     truth_df['type'] = 'Truth'\n",
    "#     theta_df = pd.concat([param_space_df, region_df.sample(1), truth_df])\n",
    "\n",
    "#     # Create pairwise heatmaps\n",
    "#     palette = [\"#808080\", \"#3cb371\", \"#FF0000\"]\n",
    "#     g = sns.pairplot(data=theta_df,\n",
    "#                         hue='type',\n",
    "#                         palette=sns.color_palette(palette, 3),\n",
    "#                         kind='hist',\n",
    "#                         diag_kind='hist',)\n",
    "\n",
    "#     for ax in g.axes.ravel():\n",
    "#         if ax.get_xlabel() and ax.get_ylabel():\n",
    "#             sns.scatterplot(data=truth_df, x=ax.get_xlabel(), y=ax.get_ylabel(), color='red', marker='*', s=100, ax=ax)\n",
    "#             sns.scatterplot(data=region_df, x=ax.get_xlabel(), y=ax.get_ylabel(), color=\"#3cb371\", marker='.', s=5, ax=ax)\n",
    "#         ax.invert_xaxis()\n",
    "#         ax.invert_yaxis()\n",
    "\n",
    "#     plt.suptitle(f'LF2I Set ({display_labels[idx]})', fontsize=20)\n",
    "#     # plt.savefig(f'{example_dir_for_setting}/lf2i_for_pt_{display_labels[idx]}.png')\n",
    "#     plt.show()"
   ]
  },
  {
   "cell_type": "code",
   "execution_count": 157,
   "metadata": {},
   "outputs": [],
   "source": [
    "# param_space_df = pd.DataFrame(theta_e_c, columns=LABELS).sample(50_000)\n",
    "# param_space_df['type'] = r'$\\Theta$'\n",
    "\n",
    "# for idx, (true_theta, region) in enumerate(zip(theta_p_d[:1], confidence_sets[:1])):\n",
    "#     region_df = pd.DataFrame(region, columns=LABELS)#.sample(min(50_000, len(region[1])))\n",
    "#     region_df['type'] = 'LF2I'\n",
    "#     truth_df = pd.DataFrame(true_theta.unsqueeze(0).numpy(), columns=LABELS)\n",
    "#     truth_df['type'] = 'Truth'\n",
    "#     theta_df = pd.concat([param_space_df, region_df.sample(1), truth_df])\n",
    "\n",
    "#     # Create pairwise heatmaps\n",
    "#     palette = [\"#808080\", \"#3cb371\", \"#FF0000\"]\n",
    "#     g = sns.pairplot(data=theta_df,\n",
    "#                         hue='type',\n",
    "#                         palette=sns.color_palette(palette, 3),\n",
    "#                         kind='hist',\n",
    "#                         diag_kind='hist',)\n",
    "\n",
    "#     for ax in g.axes.ravel():\n",
    "#         if ax.get_xlabel() and ax.get_ylabel():\n",
    "#             sns.scatterplot(data=truth_df, x=ax.get_xlabel(), y=ax.get_ylabel(), color='red', marker='*', s=100, ax=ax)\n",
    "#             sns.scatterplot(data=region_df[region_df['$d$ (kpc)'] < 0.5], x=ax.get_xlabel(), y=ax.get_ylabel(), color=\"#3cb371\", marker='.', s=5, ax=ax)\n",
    "#         ax.invert_xaxis()\n",
    "#         ax.invert_yaxis()\n",
    "\n",
    "#     plt.suptitle(f'LF2I Set ({display_labels[idx]})', fontsize=20)\n",
    "#     # plt.savefig(f'{example_dir_for_setting}/lf2i_for_pt_{display_labels[idx]}.png')\n",
    "#     plt.show()"
   ]
  },
  {
   "cell_type": "code",
   "execution_count": 158,
   "metadata": {},
   "outputs": [],
   "source": [
    "# lf2i.inference( # TODO: LF2I returns failed QR (lack of coverage in all cases?)\n",
    "#     x=x_p_d[0].unsqueeze(0),\n",
    "#     evaluation_grid=torch.vstack([posterior.sample((100_000,), x=x_p_d[0].unsqueeze(0)),\n",
    "#                                 theta_e_c]),\n",
    "#     confidence_level=CONFIDENCE_LEVEL,\n",
    "#     calibration_method='critical-values',\n",
    "#     calibration_model='cat-gb',\n",
    "#     calibration_model_kwargs={\n",
    "#         'cv': {'iterations': [100, 300, 500, 700, 1000], 'depth': [1, 3, 5, 7, 9]},\n",
    "#         'n_iter': 25\n",
    "#     },\n",
    "#     T_prime=(theta_p_c[:10_000], x_p_c[:10_000]),\n",
    "#     retrain_calibration=False\n",
    "# )"
   ]
  },
  {
   "cell_type": "code",
   "execution_count": 159,
   "metadata": {},
   "outputs": [],
   "source": [
    "# param_space_df = pd.DataFrame(theta_e_c, columns=LABELS).sample(1_000)\n",
    "# param_space_df['type'] = r'$\\Theta$'\n",
    "\n",
    "# for idx, (true_theta, region) in enumerate(zip(theta_p_d[:10], confidence_sets[:10])):\n",
    "#     region_df = pd.DataFrame(region, columns=LABELS)#.sample(min(1_000, len(region[1])))\n",
    "#     region_df['type'] = 'LF2I'\n",
    "#     truth_df = pd.DataFrame(true_theta.unsqueeze(0).numpy(), columns=LABELS)\n",
    "#     truth_df['type'] = 'Truth'\n",
    "#     theta_df = pd.concat([param_space_df, region_df, truth_df])\n",
    "\n",
    "#     # Create pairwise heatmaps\n",
    "#     palette = [\"#808080\", \"#3cb371\", \"#FF0000\"]\n",
    "#     g = sns.pairplot(data=theta_df,\n",
    "#                         hue='type',\n",
    "#                         palette=sns.color_palette(palette, 3),\n",
    "#                         kind='hist',\n",
    "#                         diag_kind='hist',)\n",
    "\n",
    "#     for ax in g.axes.ravel():\n",
    "#         if ax.get_xlabel() and ax.get_ylabel():\n",
    "#             sns.scatterplot(data=truth_df, x=ax.get_xlabel(), y=ax.get_ylabel(), color='red', marker='*', s=100, ax=ax)\n",
    "#         ax.invert_xaxis()\n",
    "#         ax.invert_yaxis()\n",
    "\n",
    "#     plt.suptitle(f'LF2I Set ({display_labels[idx]})', fontsize=20)\n",
    "#     # plt.savefig(f'{example_dir_for_setting}/lf2i_for_pt_{display_labels[idx]}.png')\n",
    "#     plt.show()"
   ]
  },
  {
   "cell_type": "markdown",
   "metadata": {},
   "source": [
    "## 3g. LF2I diagnostics"
   ]
  },
  {
   "cell_type": "code",
   "execution_count": 123,
   "metadata": {},
   "outputs": [],
   "source": [
    "try:\n",
    "    with open(f'{example_dir_for_setting}/lf2i_diagnostics.pkl', 'rb') as f:\n",
    "        diagnostics_estimator, out_parameters, mean_proba, upper_proba, lower_proba = pickle.load(f)\n",
    "except:\n",
    "    diagnostics_estimator, out_parameters, mean_proba, upper_proba, lower_proba = lf2i.diagnostics(\n",
    "        region_type='lf2i',\n",
    "        calibration_method='critical-values',\n",
    "        confidence_level=CONFIDENCE_LEVEL,\n",
    "        coverage_estimator='cat-gb',\n",
    "        coverage_estimator_kwargs={\n",
    "            'cv': {'iterations': [100, 300, 500, 700, 1000], 'depth': [1, 3, 5, 7, 9]},\n",
    "            'n_iter': 25\n",
    "        },\n",
    "        T_double_prime=(theta_p_g, x_p_g),\n",
    "        new_parameters=theta_e_c,\n",
    "        n_jobs=-2,\n",
    "        verbose=True,\n",
    "    )\n",
    "    with open(f'{example_dir_for_setting}/lf2i_diagnostics.pkl', 'wb') as f:\n",
    "        pickle.dump((diagnostics_estimator, out_parameters, mean_proba, upper_proba, lower_proba), f)"
   ]
  },
  {
   "cell_type": "code",
   "execution_count": 53,
   "metadata": {},
   "outputs": [
    {
     "name": "stderr",
     "output_type": "stream",
     "text": [
      "Evaluating posterior for 30000 points ...:   0%|          | 8/30000 [00:08<6:15:29,  1.33it/s] /home/export/jcarzon/anaconda3/envs/vsi/lib/python3.11/site-packages/joblib/externals/loky/process_executor.py:752: UserWarning: A worker stopped while some jobs were given to the executor. This can be caused by a too short worker timeout or by a memory leak.\n",
      "  warnings.warn(\n",
      "Evaluating posterior for 30000 points ...: 100%|██████████| 30000/30000 [06:14<00:00, 80.06it/s]\n"
     ]
    }
   ],
   "source": [
    "ts = lf2i.test_statistic.evaluate(theta_p_g, x_p_g, mode='diagnostics')"
   ]
  },
  {
   "cell_type": "code",
   "execution_count": 54,
   "metadata": {},
   "outputs": [
    {
     "data": {
      "text/plain": [
       "(30000,)"
      ]
     },
     "execution_count": 54,
     "metadata": {},
     "output_type": "execute_result"
    }
   ],
   "source": [
    "ts.shape"
   ]
  },
  {
   "cell_type": "code",
   "execution_count": 56,
   "metadata": {},
   "outputs": [],
   "source": [
    "cv = lf2i.calibration_model['0.90'].predict(theta_p_g.numpy())"
   ]
  },
  {
   "cell_type": "code",
   "execution_count": 57,
   "metadata": {},
   "outputs": [
    {
     "data": {
      "text/plain": [
       "(30000,)"
      ]
     },
     "execution_count": 57,
     "metadata": {},
     "output_type": "execute_result"
    }
   ],
   "source": [
    "cv.shape"
   ]
  },
  {
   "cell_type": "code",
   "execution_count": 58,
   "metadata": {},
   "outputs": [
    {
     "data": {
      "text/plain": [
       "'right'"
      ]
     },
     "execution_count": 58,
     "metadata": {},
     "output_type": "execute_result"
    }
   ],
   "source": [
    "lf2i.test_statistic.acceptance_region"
   ]
  },
  {
   "cell_type": "code",
   "execution_count": 64,
   "metadata": {},
   "outputs": [],
   "source": [
    "covered = (ts > cv).astype(int)"
   ]
  },
  {
   "cell_type": "code",
   "execution_count": 124,
   "metadata": {},
   "outputs": [
    {
     "name": "stderr",
     "output_type": "stream",
     "text": [
      "/tmp/user/3391/ipykernel_1500782/3574563488.py:7: RuntimeWarning: invalid value encountered in divide\n",
      "  heatmap_values = binned_sum_proba / bin_counts\n"
     ]
    },
    {
     "data": {
      "image/png": "[encoded data removed]",
      "text/plain": [
       "<Figure size 800x800 with 2 Axes>"
      ]
     },
     "metadata": {},
     "output_type": "display_data"
    }
   ],
   "source": [
    "plt.figure(figsize=(8, 8))\n",
    "theta_diag_df = pd.DataFrame(theta_p_g.numpy(), columns=LABELS)[LABELS[:2]]\n",
    "x_bins = np.histogram_bin_edges(theta_diag_df[LABELS[0]], bins='auto')\n",
    "y_bins = np.histogram_bin_edges(theta_diag_df[LABELS[1]], bins='auto')\n",
    "binned_sum_proba, xedges, yedges = np.histogram2d(theta_diag_df[LABELS[0]], theta_diag_df[LABELS[1]], bins=[x_bins, y_bins], weights=np.round(covered*100, 2))\n",
    "bin_counts, xedges, yedges = np.histogram2d(theta_diag_df[LABELS[0]], theta_diag_df[LABELS[1]], bins=[x_bins, y_bins])\n",
    "heatmap_values = binned_sum_proba / bin_counts\n",
    "heatmap = plt.imshow(heatmap_values.T, origin='lower', extent=[xedges[0], xedges[-1], yedges[0], yedges[-1]], aspect='auto')\n",
    "plt.gca().invert_xaxis()\n",
    "plt.gca().invert_yaxis()\n",
    "plt.xlabel(LABELS[0])\n",
    "plt.ylabel(LABELS[1])\n",
    "plt.title('LF2I diagnostics')\n",
    "cb = plt.colorbar(heatmap, label='Coverage prob. (%)')\n",
    "plt.savefig(f'{example_dir_for_setting}/lf2i_diagnostics.png')\n",
    "plt.show()\n",
    "plt.close()"
   ]
  },
  {
   "cell_type": "markdown",
   "metadata": {},
   "source": [
    "## 3h. HPD Diagnostics"
   ]
  },
  {
   "cell_type": "code",
   "execution_count": 121,
   "metadata": {},
   "outputs": [],
   "source": [
    "try:\n",
    "    with open(f'{example_dir_for_setting}/hpd_diagnostics.pkl', 'rb') as f:\n",
    "        diagnostics_estimator, out_parameters, mean_proba, upper_proba, lower_proba = pickle.load(f)\n",
    "except:\n",
    "    # Compute indicators.\n",
    "    hpd_indicators = compute_indicators_sampling_posterior(posterior=posterior,\n",
    "                                                            parameters=theta_p_g,\n",
    "                                                            samples=x_p_g,\n",
    "                                                            credible_level=CONFIDENCE_LEVEL,\n",
    "                                                            verbose=True,\n",
    "                                                            n_jobs=-2)\n",
    "\n",
    "    ## Compute diagnostics.\n",
    "    diagnostics_estimator, out_parameters, mean_proba, upper_proba, lower_proba = lf2i.diagnostics(\n",
    "        region_type='posterior',\n",
    "        confidence_level=CONFIDENCE_LEVEL,\n",
    "        coverage_estimator='cat-gb',\n",
    "        coverage_estimator_kwargs={\n",
    "            'cv': {'iterations': [100, 300, 500, 700, 1000], 'depth': [1, 3, 5, 7, 9]},\n",
    "            'n_iter': 25\n",
    "        },\n",
    "        T_double_prime=(theta_p_g, x_p_g),\n",
    "        new_parameters=theta_e_c,\n",
    "        indicators=hpd_indicators,\n",
    "        parameters=theta_p_g,\n",
    "        n_jobs=-2,\n",
    "        verbose=True,\n",
    "    )\n",
    "    with open(f'{example_dir_for_setting}/hpd_diagnostics.pkl', 'wb') as f:\n",
    "        pickle.dump((diagnostics_estimator, out_parameters, mean_proba, upper_proba, lower_proba), f)"
   ]
  },
  {
   "cell_type": "code",
   "execution_count": 122,
   "metadata": {},
   "outputs": [
    {
     "name": "stderr",
     "output_type": "stream",
     "text": [
      "/tmp/user/3391/ipykernel_1500782/1830070308.py:7: RuntimeWarning: invalid value encountered in divide\n",
      "  heatmap_values = binned_sum_proba / bin_counts\n"
     ]
    },
    {
     "data": {
      "image/png": "[encoded data removed]",
      "text/plain": [
       "<Figure size 800x800 with 2 Axes>"
      ]
     },
     "metadata": {},
     "output_type": "display_data"
    }
   ],
   "source": [
    "plt.figure(figsize=(8, 8))\n",
    "theta_diag_df = pd.DataFrame(out_parameters, columns=LABELS)[LABELS[:2]]\n",
    "x_bins = np.histogram_bin_edges(theta_diag_df[LABELS[0]], bins='auto')\n",
    "y_bins = np.histogram_bin_edges(theta_diag_df[LABELS[1]], bins='auto')\n",
    "binned_sum_proba, xedges, yedges = np.histogram2d(theta_diag_df[LABELS[0]], theta_diag_df[LABELS[1]], bins=[x_bins, y_bins], weights=np.round(mean_proba*100, 2))\n",
    "bin_counts, xedges, yedges = np.histogram2d(theta_diag_df[LABELS[0]], theta_diag_df[LABELS[1]], bins=[x_bins, y_bins])\n",
    "heatmap_values = binned_sum_proba / bin_counts\n",
    "heatmap = plt.imshow(heatmap_values.T, origin='lower', extent=[xedges[0], xedges[-1], yedges[0], yedges[-1]], aspect='auto')\n",
    "plt.gca().invert_xaxis()\n",
    "plt.gca().invert_yaxis()\n",
    "plt.xlabel(LABELS[0])\n",
    "plt.ylabel(LABELS[1])\n",
    "plt.title('HPD diagnostics')\n",
    "cb = plt.colorbar(heatmap, label='Coverage prob. (%)')\n",
    "plt.savefig(f'{example_dir_for_setting}/hpd_diagnostics.png')\n",
    "plt.show()\n",
    "plt.close()"
   ]
  },
  {
   "cell_type": "code",
   "execution_count": null,
   "metadata": {},
   "outputs": [],
   "source": []
  },
  {
   "cell_type": "markdown",
   "metadata": {},
   "source": [
    "## 3i. Estimated coverage distribution for various targets"
   ]
  },
  {
   "cell_type": "code",
   "execution_count": 119,
   "metadata": {},
   "outputs": [
    {
     "name": "stdout",
     "output_type": "stream",
     "text": [
      "0.7039266646653793\n",
      "0.6756558923793524\n",
      "0.5835472907130724\n",
      "0.3456518019085686\n",
      "0.20380926868479982\n"
     ]
    }
   ],
   "source": [
    "coverage_probs_for_setting = []\n",
    "\n",
    "for PRIOR_SETTING in PRIOR_SETTINGS:\n",
    "    # Test set\n",
    "    try:\n",
    "        with open(f'{assets_dir}/tryout_set_{PRIOR_SETTING}.pkl', 'rb') as f:\n",
    "            theta_t, x_t = pickle.load(f)\n",
    "    except:\n",
    "        params, seds = fetch_grid(assets_dir=assets_dir)\n",
    "        theta, x = sample_joint_distribution(params=params,\n",
    "                                            seds=seds,\n",
    "                                            args={'age_feh_hyperparam': PRIOR_SETTING,},\n",
    "                                            n_samples=B,\n",
    "                                            assets_dir=assets_dir,)\n",
    "        theta_t, x_t = preprocess_inputs(theta, x, POIS)\n",
    "        with open(f'{assets_dir}/tryout_set_{PRIOR_SETTING}.pkl', 'wb') as f:\n",
    "            pickle.dump((theta_t, x_t), f)\n",
    "\n",
    "    print(np.mean(diagnostics_estimator.predict_proba(theta_t.numpy())[:, 1]))\n",
    "    coverage_probs_for_setting.append(diagnostics_estimator.predict_proba(theta_t.numpy())[:, 1])\n"
   ]
  },
  {
   "cell_type": "code",
   "execution_count": 120,
   "metadata": {},
   "outputs": [
    {
     "data": {
      "image/png": "[encoded data removed]",
      "text/plain": [
       "<Figure size 640x480 with 1 Axes>"
      ]
     },
     "metadata": {},
     "output_type": "display_data"
    }
   ],
   "source": [
    "sns.boxplot(np.vstack(coverage_probs_for_setting).T, color='grey', medianprops=dict(color='red'), showfliers=False)\n",
    "plt.title('Coverage of 90% HPD Sets')\n",
    "plt.axhline(0.9, 0, 6, color='grey', linestyle='--')\n",
    "plt.xlabel('Setting')\n",
    "plt.ylim(0, 1)\n",
    "plt.savefig(f'{assets_dir}/hpd_coverage_across_settings.png')\n",
    "plt.show()\n",
    "plt.close()"
   ]
  },
  {
   "cell_type": "code",
   "execution_count": 108,
   "metadata": {},
   "outputs": [],
   "source": [
    "try:\n",
    "    with open(f'{example_dir_for_setting}/lf2i_diagnostics.pkl', 'rb') as f:\n",
    "        diagnostics_estimator, out_parameters, mean_proba, upper_proba, lower_proba = pickle.load(f)\n",
    "except:\n",
    "    diagnostics_estimator, out_parameters, mean_proba, upper_proba, lower_proba = lf2i.diagnostics(\n",
    "        region_type='lf2i',\n",
    "        calibration_method='critical-values',\n",
    "        confidence_level=CONFIDENCE_LEVEL,\n",
    "        coverage_estimator='cat-gb',\n",
    "        coverage_estimator_kwargs={\n",
    "            'cv': {'iterations': [100, 300, 500, 700, 1000], 'depth': [1, 3, 5, 7, 9]},\n",
    "            'n_iter': 25\n",
    "        },\n",
    "        T_double_prime=(theta_p_g, x_p_g),\n",
    "        new_parameters=theta_e_c,\n",
    "        n_jobs=-2,\n",
    "        verbose=True,\n",
    "    )\n",
    "    with open(f'{example_dir_for_setting}/lf2i_diagnostics.pkl', 'wb') as f:\n",
    "        pickle.dump((diagnostics_estimator, out_parameters, mean_proba, upper_proba, lower_proba), f)"
   ]
  },
  {
   "cell_type": "code",
   "execution_count": 109,
   "metadata": {},
   "outputs": [
    {
     "name": "stdout",
     "output_type": "stream",
     "text": [
      "0.8950478719157673\n",
      "0.8951282043368431\n",
      "0.8953332844083345\n",
      "0.8942582670789736\n",
      "0.8909725397125051\n"
     ]
    }
   ],
   "source": [
    "coverage_probs_for_setting = []\n",
    "\n",
    "for PRIOR_SETTING in PRIOR_SETTINGS:\n",
    "    # Test set\n",
    "    try:\n",
    "        with open(f'{assets_dir}/tryout_set_{PRIOR_SETTING}.pkl', 'rb') as f:\n",
    "            theta_t, x_t = pickle.load(f)\n",
    "    except:\n",
    "        params, seds = fetch_grid(assets_dir=assets_dir)\n",
    "        theta, x = sample_joint_distribution(params=params,\n",
    "                                            seds=seds,\n",
    "                                            args={'age_feh_hyperparam': PRIOR_SETTING,},\n",
    "                                            n_samples=B,\n",
    "                                            assets_dir=assets_dir,)\n",
    "        theta_t, x_t = preprocess_inputs(theta, x, POIS)\n",
    "        with open(f'{assets_dir}/tryout_set_{PRIOR_SETTING}.pkl', 'wb') as f:\n",
    "            pickle.dump((theta_t, x_t), f)\n",
    "\n",
    "    print(np.mean(diagnostics_estimator.predict_proba(theta_t.numpy())[:, 1]))\n",
    "    coverage_probs_for_setting.append(diagnostics_estimator.predict_proba(theta_t.numpy())[:, 1])\n"
   ]
  },
  {
   "cell_type": "code",
   "execution_count": 116,
   "metadata": {},
   "outputs": [],
   "source": [
    "sns.boxplot(np.vstack(coverage_probs_for_setting).T, color='grey', medianprops=dict(color='red'), showfliers=False)\n",
    "plt.title('Coverage of 90% LF2I Sets')\n",
    "plt.axhline(0.9, 0, 6, color='grey', linestyle='--')\n",
    "plt.xlabel('Setting')\n",
    "plt.ylim(0, 1)\n",
    "plt.savefig(f'{example_dir_for_setting}/lf2i_coverage_across_settings.png')\n",
    "plt.close()"
   ]
  }
 ],
 "metadata": {
  "kernelspec": {
   "display_name": "vsi",
   "language": "python",
   "name": "python3"
  },
  "language_info": {
   "codemirror_mode": {
    "name": "ipython",
    "version": 3
   },
   "file_extension": ".py",
   "mimetype": "text/x-python",
   "name": "python",
   "nbconvert_exporter": "python",
   "pygments_lexer": "ipython3",
   "version": "3.11.9"
  }
 },
 "nbformat": 4,
 "nbformat_minor": 2
}
